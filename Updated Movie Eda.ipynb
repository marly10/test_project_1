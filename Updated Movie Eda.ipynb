{
 "cells": [
  {
   "cell_type": "markdown",
   "metadata": {},
   "source": [
    "# Contents\n",
    "\n",
    "1. Setup\n",
    "2. Studio Analysis\n",
    "3. Opus Analysis"
   ]
  },
  {
   "cell_type": "markdown",
   "metadata": {},
   "source": [
    "# 1. Setup\n",
    "1. Import libraries\n",
    "2. Import data\n",
    "3. Basic data cleaning"
   ]
  },
  {
   "cell_type": "code",
   "execution_count": 27,
   "metadata": {},
   "outputs": [],
   "source": [
    "import pandas as pd\n",
    "import matplotlib.pyplot as plt\n",
    "import seaborn as sns\n",
    "import sqlite3\n",
    "#import numpy as np\n",
    "import string\n",
    "import difflib\n",
    "%matplotlib inline\n",
    "\n",
    "tn_df = pd.read_csv('/Users/ronlodetti/Documents/Flatiron/1_phase/Project_1/Movie_Analysis_Project/data/imported/tn.movie_budgets.csv.gz')\n",
    "bom_df = pd.read_csv('/Users/ronlodetti/Documents/Flatiron/1_phase/Project_1/Movie_Analysis_Project/data/imported/bom.movie_gross.csv.gz')\n",
    "opus_df = pd.read_csv('/Users/ronlodetti/Documents/Flatiron/1_phase/Project_1/Movie_Analysis_Project/data/imported/MovieData.csv')\n",
    "conn = sqlite3.connect('/Users/ronlodetti/Documents/Flatiron/1_phase/Project_1/Movie_Analysis_Project/data/imported/im.db')\n",
    "q = \"\"\"\n",
    "SELECT primary_title AS title,\n",
    "    start_year AS year,\n",
    "    genres\n",
    "FROM movie_basics\n",
    "WHERE year <= 2018;\n",
    "\n",
    "\"\"\"\n",
    "imdb_df = pd.read_sql(q, conn)\n"
   ]
  },
  {
   "cell_type": "markdown",
   "metadata": {},
   "source": [
    "# Imported Data"
   ]
  },
  {
   "cell_type": "markdown",
   "metadata": {},
   "source": [
    "## The Numbers"
   ]
  },
  {
   "cell_type": "code",
   "execution_count": null,
   "metadata": {},
   "outputs": [],
   "source": [
    "tn_df.info()\n"
   ]
  },
  {
   "cell_type": "markdown",
   "metadata": {},
   "source": [
    "## Box Office Mojo"
   ]
  },
  {
   "cell_type": "code",
   "execution_count": null,
   "metadata": {},
   "outputs": [],
   "source": [
    "bom_df.info()"
   ]
  },
  {
   "cell_type": "markdown",
   "metadata": {},
   "source": [
    "## OpusData"
   ]
  },
  {
   "cell_type": "code",
   "execution_count": null,
   "metadata": {},
   "outputs": [],
   "source": [
    "opus_df.info()"
   ]
  },
  {
   "cell_type": "markdown",
   "metadata": {},
   "source": [
    "## IMDB"
   ]
  },
  {
   "cell_type": "code",
   "execution_count": null,
   "metadata": {},
   "outputs": [],
   "source": [
    "imdb_df.info()"
   ]
  },
  {
   "cell_type": "markdown",
   "metadata": {},
   "source": [
    "# Data Preparation"
   ]
  },
  {
   "cell_type": "markdown",
   "metadata": {},
   "source": [
    "## Data Cleaning"
   ]
  },
  {
   "cell_type": "code",
   "execution_count": 28,
   "metadata": {},
   "outputs": [],
   "source": [
    "def clean_titles(series):\n",
    "    series = series.translate(str.maketrans('', '', string.punctuation))\n",
    "    series = series.replace(' ','')\n",
    "    series = series.lower()\n",
    "    return series\n",
    "\n",
    "def clean_currency(series):\n",
    "    series = series.replace('$','')\n",
    "    series = series.replace(',','')\n",
    "    series = series.replace(' ','')\n",
    "    series = int(series)\n",
    "    return series\n",
    "\n",
    "def title_norm(df1,df2):\n",
    "    '''\n",
    "    This function takes the titles from df1, looks through the titles from\n",
    "    df2, and if they pass a threshold, are replaced by matched title from \n",
    "    df2, aligning the titles for merging purposes. \n",
    "    '''\n",
    "    df1['title'] = df1['title'].apply(clean_titles)\n",
    "    df2['title'] = df2['title'].apply(clean_titles)\n",
    "    df1.reset_index(drop=True,inplace=True)\n",
    "    df2.reset_index(drop=True,inplace=True)\n",
    "    for i in range(len(df1)):\n",
    "        df1_title = df1['title'][i]\n",
    "        match = difflib.get_close_matches(df1_title, df2['title'], n=1,cutoff=0.8)\n",
    "        try:\n",
    "            df2_title = match[0]\n",
    "            index = df2[df2['title']==df2_title].index[0]\n",
    "            if (df1_title != df2_title) & (df1['year'][i] == df2['year'][index]):\n",
    "                df1['title'].replace(df1_title, df2_title,inplace=True)\n",
    "            else:\n",
    "                continue\n",
    "        except:\n",
    "            continue"
   ]
  },
  {
   "cell_type": "code",
   "execution_count": 29,
   "metadata": {},
   "outputs": [],
   "source": [
    "# Convert currencies to integers.\n",
    "tn_df['production_budget'] = tn_df['production_budget'].apply(clean_currency)\n",
    "tn_df['domestic_gross'] = tn_df['domestic_gross'].apply(clean_currency)\n",
    "tn_df['worldwide_gross'] = tn_df['worldwide_gross'].apply(clean_currency)\n",
    "\n",
    "# Drop any rows with missing studio data.\n",
    "bom_df = bom_df.loc[bom_df['studio'].notna()]"
   ]
  },
  {
   "cell_type": "markdown",
   "metadata": {},
   "source": [
    "## Feature Engineering"
   ]
  },
  {
   "cell_type": "code",
   "execution_count": 30,
   "metadata": {},
   "outputs": [],
   "source": [
    "# Create a new column to calculate profit.\n",
    "tn_df['profit'] = tn_df['worldwide_gross'] - tn_df['production_budget']\n",
    "opus_df['profit'] = opus_df['international_box_office'] + opus_df['domestic_box_office'] - opus_df['production_budget']\n",
    "\n",
    "# Extracting the year from 'release_date' column.\n",
    "tn_df['year'] = pd.to_datetime(tn_df['release_date']).dt.year\n",
    "\n",
    "# Filtering data for movies that have been released since 2006\n",
    "tn_df = tn_df.loc[(tn_df['year']>=2006) & (tn_df['year']<=2018)]\n",
    "\n",
    "# Create a new column based on 'source' column.\n",
    "opus_df['is_original'] = opus_df['source'].map(lambda x : True if x == 'Original Screenplay' else False)\n",
    "\n",
    "# Norming and filtering column names\n",
    "opus_df.rename(columns={'movie_name':'title','production_year':'year'},inplace=True)\n",
    "tn_df.rename(columns={'movie':'title','production_budget':'budget'},inplace=True)\n",
    "\n",
    "bom_df = bom_df[['title', 'year', 'studio']]\n",
    "opus_df = opus_df[['title', 'year', 'rating', 'genre', 'sequel', 'profit', 'is_original']]\n",
    "tn_df = tn_df[['title', 'year', 'budget', 'profit']]\n",
    "\n",
    "imdb_df['title'] = imdb_df['title'].apply(clean_titles)\n",
    "bom_df['title'] = bom_df['title'].apply(clean_titles)\n",
    "tn_df['title'] = tn_df['title'].apply(clean_titles)\n",
    "opus_df['title'] = opus_df['title'].apply(clean_titles)"
   ]
  },
  {
   "cell_type": "code",
   "execution_count": 35,
   "metadata": {},
   "outputs": [
    {
     "data": {
      "text/plain": [
       "524"
      ]
     },
     "execution_count": 35,
     "metadata": {},
     "output_type": "execute_result"
    }
   ],
   "source": [
    "x = pd.merge(bom_df,opus_df,how='inner',on=['title','year'])\n",
    "y = pd.merge(x,imdb_df,how='inner',on=['title','year'])\n",
    "len(x)\n"
   ]
  },
  {
   "cell_type": "code",
   "execution_count": 36,
   "metadata": {},
   "outputs": [],
   "source": [
    "# df to analize studios and profit\n",
    "studio_profits = pd.merge(bom_df,tn_df,how='inner',on=['title','year'])\n",
    "\n",
    "# df to analize studios and genres\n",
    "studio_genres = pd.merge(bom_df,imdb_df,how='inner',on=['title','year'])\n",
    "\n",
    "# df to analize profits and genres/sequel/adaptation/rating\n",
    "genre_profits = opus_df.copy()\n",
    "genre_sequel = opus_df.copy()\n",
    "genre_adaptation = opus_df.copy()\n",
    "genre_rating = opus_df.copy()\n"
   ]
  },
  {
   "cell_type": "code",
   "execution_count": null,
   "metadata": {},
   "outputs": [],
   "source": []
  },
  {
   "cell_type": "code",
   "execution_count": null,
   "metadata": {},
   "outputs": [],
   "source": [
    "len(pd.merge(bom_df,opus_df,how='inner',on=['title','year']))"
   ]
  },
  {
   "cell_type": "markdown",
   "metadata": {},
   "source": [
    "# Studio Analysis"
   ]
  },
  {
   "cell_type": "code",
   "execution_count": null,
   "metadata": {},
   "outputs": [],
   "source": [
    "#Merge bom and the_num to get studio data with profit\n",
    "box_office_by_studio = pd.merge(bom, the_num, how='inner', on =['title','year'])\n",
    "profit_by_studio = box_office_by_studio[['studio','profit']]"
   ]
  },
  {
   "cell_type": "code",
   "execution_count": null,
   "metadata": {},
   "outputs": [],
   "source": [
    "# Filtering the data to account for studios who have made 100 or more movies\n",
    "movie_counts = bom['studio'].value_counts().reset_index().rename(columns={'index':'studio','studio':'num_movies'})\n",
    "avg_profit_by_studio = profit_by_studio.groupby('studio').mean().sort_values('studio').reset_index()\n",
    "\n",
    "# I forget what this code below was for.\n",
    "#     fig,ax = plt.subplots()\n",
    "#     x = movie_counts\n",
    "#     y = profit_by_studio\n",
    "#     df = pd.merge(x,y,how='inner',on='studio')\n",
    "#     sns.displot(df, x=\"num_movies\", hue=\"profit\")\n",
    "#     ax = sns.scatterplot(data=df,x='num_movies',y='profit')"
   ]
  },
  {
   "cell_type": "code",
   "execution_count": null,
   "metadata": {},
   "outputs": [],
   "source": [
    "# Based on the scatter plot, lets filter the data for studios who have made over 100 movies\n",
    "big_studios = list(movie_counts[movie_counts['num_movies']>100]['studio'])\n",
    "\n",
    "# Finding the average profit per movie for each studio\n",
    "avg_profit_big_studio = avg_profit_by_studio[avg_profit_by_studio['studio'].isin(big_studios)]\n",
    "\n",
    "# Sorting to output the top and bottom 3 studios\n",
    "top_studios = list(avg_profit_big_studio.sort_values('profit',ascending=False).head(3)['studio'])\n",
    "bottom_studios = list(avg_profit_big_studio.sort_values('profit',ascending=False).tail(3)['studio'])"
   ]
  },
  {
   "cell_type": "code",
   "execution_count": null,
   "metadata": {},
   "outputs": [],
   "source": [
    "box_office_by_studio['top_or_bottom'] = ['Top Studio' if x in top_studios else ('Bottom Studio' if x in bottom_studios else np.nan) for x in box_office_by_studio['studio']]\n",
    "    \n",
    "top_bottom_studios = box_office_by_studio.dropna()\n"
   ]
  },
  {
   "cell_type": "code",
   "execution_count": null,
   "metadata": {},
   "outputs": [],
   "source": [
    "# A good statistic to take away\n",
    "top_bottom_studios.groupby('top_or_bottom').mean()"
   ]
  },
  {
   "cell_type": "code",
   "execution_count": null,
   "metadata": {},
   "outputs": [],
   "source": [
    "# potential visual of the distribution of budgets by top and bottom\n",
    "sns.displot(top_bottom_studios, x=\"budget\", hue=\"top_or_bottom\");"
   ]
  },
  {
   "cell_type": "code",
   "execution_count": null,
   "metadata": {},
   "outputs": [],
   "source": [
    "bom['top_or_bottom'] = ['Top Studio' if x in top_studios else ('Bottom Studio' if x in bottom_studios else np.nan) for x in bom['studio']]\n",
    "bom_imbd = pd.merge(bom,imdb,how='inner',on=['title','year']).dropna().reset_index(drop=True)\n",
    "tb_genre = []\n",
    "for i in range(len(bom_imbd)):\n",
    "    studio = bom_imbd['studio'][i]\n",
    "    rank = bom_imbd['top_or_bottom'][i]\n",
    "    try:\n",
    "        genres_list = bom_imbd['genres'][i].split(',')\n",
    "        for j in range(len(genres_list)):\n",
    "            tb_genre.append([rank,studio,genres_list[j]])\n",
    "    except:\n",
    "        continue\n",
    "tb_genre = pd.DataFrame(tb_genre).rename(columns={0:'rank',1:'studio',2:'genre'})"
   ]
  },
  {
   "cell_type": "code",
   "execution_count": null,
   "metadata": {},
   "outputs": [],
   "source": [
    "# Must use visual about top genres for top or bottom studios\n",
    "top = tb_genre[tb_genre['rank']=='Top Studio']['genre'].value_counts(normalize=True)[:5].reset_index().rename(columns={'index':'genre','genre':'percentage'})\n",
    "bottom = tb_genre[tb_genre['rank']=='Bottom Studio']['genre'].value_counts(normalize=True)[:5].reset_index().rename(columns={'index':'genre','genre':'percentage'})\n",
    "fig,axes = plt.subplots(ncols=2,figsize=(10,5))\n",
    "df1 = top\n",
    "df2 = bottom\n",
    "sns.barplot(ax=axes[0],data=df1,x='genre',y='percentage')\n",
    "sns.barplot(ax=axes[1],data=df2,x='genre',y='percentage');\n"
   ]
  },
  {
   "cell_type": "markdown",
   "metadata": {},
   "source": [
    "# Data Visualizations"
   ]
  },
  {
   "cell_type": "code",
   "execution_count": null,
   "metadata": {},
   "outputs": [],
   "source": [
    "#profit v budget\n",
    "fig,ax = plt.subplots()\n",
    "datax = the_num['budget']\n",
    "datay = the_num['profit']\n",
    "ax = sns.scatterplot(x = datax,y = datay)"
   ]
  },
  {
   "cell_type": "markdown",
   "metadata": {},
   "source": [
    "# Opus Analysis"
   ]
  },
  {
   "cell_type": "code",
   "execution_count": null,
   "metadata": {},
   "outputs": [],
   "source": [
    "new_opus = opus[['profit','rating','source','genre','sequel']]\n",
    "\n"
   ]
  },
  {
   "cell_type": "code",
   "execution_count": null,
   "metadata": {},
   "outputs": [],
   "source": [
    "# avg_profit vs rating\n",
    "new_opus.groupby('rating').mean().sort_values('profit',ascending=False)\n",
    "\n",
    " "
   ]
  },
  {
   "cell_type": "code",
   "execution_count": null,
   "metadata": {},
   "outputs": [],
   "source": [
    "# avg_profit vs original or adapted\n",
    "new_opus['source'] = new_opus['source'].map(lambda x : 'Original' if x=='Original Screenplay' else 'Adapted').copy()\n",
    "# new_opus.loc[new_opus['source'] != 'Original Screenplay', 'source'] = 'Adapted'\n",
    "#new_opus.loc[new_opus['source'] == 'Original Screenplay', 'source'] = 'Original'\n",
    "\n",
    "#new_opus.groupby('source').agg(['mean','count'])\n",
    "\n"
   ]
  },
  {
   "cell_type": "code",
   "execution_count": null,
   "metadata": {},
   "outputs": [],
   "source": [
    "#avg_profit vs genre\n",
    "new_opus.groupby('genre').agg(['mean','count'])\n",
    "\n"
   ]
  },
  {
   "cell_type": "code",
   "execution_count": null,
   "metadata": {},
   "outputs": [],
   "source": [
    "#avg_profit vs sequel\n",
    "new_opus.groupby('sequel').agg(['mean','count'])"
   ]
  },
  {
   "cell_type": "code",
   "execution_count": null,
   "metadata": {},
   "outputs": [],
   "source": []
  },
  {
   "cell_type": "code",
   "execution_count": null,
   "metadata": {},
   "outputs": [],
   "source": []
  }
 ],
 "metadata": {
  "kernelspec": {
   "display_name": "Python (learn-env)",
   "language": "python",
   "name": "learn-env"
  },
  "language_info": {
   "codemirror_mode": {
    "name": "ipython",
    "version": 3
   },
   "file_extension": ".py",
   "mimetype": "text/x-python",
   "name": "python",
   "nbconvert_exporter": "python",
   "pygments_lexer": "ipython3",
   "version": "3.8.5"
  }
 },
 "nbformat": 4,
 "nbformat_minor": 4
}
