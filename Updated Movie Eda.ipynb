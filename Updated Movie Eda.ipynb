{
 "cells": [
  {
   "cell_type": "markdown",
   "metadata": {},
   "source": [
    "# Contents\n",
    "\n",
    "1. Setup\n",
    "2. Studio Analysis\n",
    "3. Opus Analysis"
   ]
  },
  {
   "cell_type": "markdown",
   "metadata": {},
   "source": [
    "# 1. Setup\n",
    "1. Import libraries\n",
    "2. Import data\n",
    "3. Basic data cleaning"
   ]
  },
  {
   "cell_type": "code",
   "execution_count": 1,
   "metadata": {},
   "outputs": [],
   "source": [
    "import pandas as pd\n",
    "import matplotlib.pyplot as plt\n",
    "import seaborn as sns\n",
    "import sqlite3\n",
    "import numpy as np\n",
    "import string\n",
    "%matplotlib inline"
   ]
  },
  {
   "cell_type": "code",
   "execution_count": 2,
   "metadata": {},
   "outputs": [],
   "source": [
    "# Making the locations of all of the data files\n",
    "folder = '/Users/ronlodetti/Documents/Flatiron/1_phase/Project_1/Movie_Analysis_Project/data/imported/'\n",
    "bom_loc = folder + 'bom.movie_gross.csv.gz'\n",
    "imdb_loc = folder + 'im.db'\n",
    "opus_loc = folder + 'MovieData.csv'\n",
    "thenum_loc = folder + 'tn.movie_budgets.csv.gz'"
   ]
  },
  {
   "cell_type": "code",
   "execution_count": 3,
   "metadata": {},
   "outputs": [],
   "source": [
    "def clean_titles(series):\n",
    "    series = series.str.strip()\n",
    "    series = series.str.translate(str.maketrans('', '', string.punctuation))\n",
    "    series = series.str.title()\n",
    "    return series"
   ]
  },
  {
   "cell_type": "code",
   "execution_count": 4,
   "metadata": {},
   "outputs": [],
   "source": [
    "# The Numbers\n",
    "the_num = pd.read_csv(thenum_loc)\n",
    "the_num['budget'] = the_num['production_budget'].map(lambda x : int(x[1:].replace(',','')))\n",
    "worldwide_gross = the_num['worldwide_gross'].map(lambda x : int(x[1:].replace(',','')))\n",
    "the_num['profit'] = worldwide_gross - the_num['budget']\n",
    "the_num['year'] = pd.to_datetime(the_num['release_date']).dt.year\n",
    "the_num = the_num.rename(columns={'movie':'title'})\n",
    "the_num = the_num[['title','year','profit','budget']]\n",
    "the_num = the_num[(the_num['year']>2006)]\n",
    "the_num['title'] = clean_titles(the_num['title']) "
   ]
  },
  {
   "cell_type": "code",
   "execution_count": 5,
   "metadata": {},
   "outputs": [],
   "source": [
    "# Box Office Mojo\n",
    "bom = pd.read_csv(bom_loc)\n",
    "bom = bom[['title','year','studio']]\n",
    "bom = bom[bom['studio'].notna()].reset_index(drop=True)\n",
    "bom['title'] = clean_titles(bom['title'])"
   ]
  },
  {
   "cell_type": "code",
   "execution_count": 6,
   "metadata": {},
   "outputs": [],
   "source": [
    "# Opus Data\n",
    "opus = pd.read_csv(opus_loc)\n",
    "opus['total_box_office']=opus['domestic_box_office']+opus['international_box_office']\n",
    "opus['profit'] = opus['total_box_office'] - opus['production_budget']\n",
    "opus.drop(['movie_odid','creative_type','running_time','production_method','domestic_box_office','international_box_office'],axis=1,inplace=True)\n",
    "opus = opus.rename(columns={'movie_name':'title','production_year':'year','production_budget':'budget'})\n",
    "opus['title'] = clean_titles(opus['title'])\n"
   ]
  },
  {
   "cell_type": "code",
   "execution_count": 7,
   "metadata": {},
   "outputs": [],
   "source": [
    "#IMDB\n",
    "conn = sqlite3.connect(imdb_loc)\n",
    "q = \"\"\"\n",
    "SELECT primary_title AS title,\n",
    "    start_year AS year,\n",
    "    genres\n",
    "FROM movie_basics;\n",
    "\n",
    "\"\"\"\n",
    "imdb = pd.read_sql(q, conn)\n",
    "imdb['title'] = clean_titles(imdb['title'])"
   ]
  },
  {
   "cell_type": "markdown",
   "metadata": {},
   "source": [
    "# Studio Analysis"
   ]
  },
  {
   "cell_type": "code",
   "execution_count": 8,
   "metadata": {},
   "outputs": [],
   "source": [
    "#Merge bom and the_num to get studio data with profit\n",
    "box_office_by_studio = pd.merge(bom, the_num, how='inner', on =['title','year'])\n",
    "profit_by_studio = box_office_by_studio[['studio','profit']]"
   ]
  },
  {
   "cell_type": "code",
   "execution_count": 12,
   "metadata": {},
   "outputs": [],
   "source": [
    "# Filtering the data to account for studios who have made 100 or more movies\n",
    "movie_counts = bom['studio'].value_counts().reset_index().rename(columns={'index':'studio','studio':'num_movies'})\n",
    "avg_profit_by_studio = profit_by_studio.groupby('studio').mean().sort_values('studio').reset_index()\n",
    "\n",
    "# I forget what this code below was for.\n",
    "#     fig,ax = plt.subplots()\n",
    "#     x = movie_counts\n",
    "#     y = profit_by_studio\n",
    "#     df = pd.merge(x,y,how='inner',on='studio')\n",
    "#     sns.displot(df, x=\"num_movies\", hue=\"profit\")\n",
    "#     ax = sns.scatterplot(data=df,x='num_movies',y='profit')"
   ]
  },
  {
   "cell_type": "code",
   "execution_count": 13,
   "metadata": {},
   "outputs": [],
   "source": [
    "# Based on the scatter plot, lets filter the data for studios who have made over 100 movies\n",
    "big_studios = list(movie_counts[movie_counts['num_movies']>100]['studio'])\n",
    "\n",
    "# Finding the average profit per movie for each studio\n",
    "avg_profit_big_studio = avg_profit_by_studio[avg_profit_by_studio['studio'].isin(big_studios)]\n",
    "\n",
    "# Sorting to output the top and bottom 3 studios\n",
    "top_studios = list(avg_profit_big_studio.sort_values('profit',ascending=False).head(3)['studio'])\n",
    "bottom_studios = list(avg_profit_big_studio.sort_values('profit',ascending=False).tail(3)['studio'])"
   ]
  },
  {
   "cell_type": "code",
   "execution_count": 14,
   "metadata": {},
   "outputs": [],
   "source": [
    "box_office_by_studio['top_or_bottom'] = ['Top Studio' if x in top_studios else ('Bottom Studio' if x in bottom_studios else np.nan) for x in box_office_by_studio['studio']]\n",
    "    \n",
    "top_bottom_studios = box_office_by_studio.dropna()\n"
   ]
  },
  {
   "cell_type": "code",
   "execution_count": 15,
   "metadata": {},
   "outputs": [
    {
     "data": {
      "text/html": [
       "<div>\n",
       "<style scoped>\n",
       "    .dataframe tbody tr th:only-of-type {\n",
       "        vertical-align: middle;\n",
       "    }\n",
       "\n",
       "    .dataframe tbody tr th {\n",
       "        vertical-align: top;\n",
       "    }\n",
       "\n",
       "    .dataframe thead th {\n",
       "        text-align: right;\n",
       "    }\n",
       "</style>\n",
       "<table border=\"1\" class=\"dataframe\">\n",
       "  <thead>\n",
       "    <tr style=\"text-align: right;\">\n",
       "      <th></th>\n",
       "      <th>year</th>\n",
       "      <th>profit</th>\n",
       "      <th>budget</th>\n",
       "    </tr>\n",
       "    <tr>\n",
       "      <th>top_or_bottom</th>\n",
       "      <th></th>\n",
       "      <th></th>\n",
       "      <th></th>\n",
       "    </tr>\n",
       "  </thead>\n",
       "  <tbody>\n",
       "    <tr>\n",
       "      <th>Bottom Studio</th>\n",
       "      <td>2011.805195</td>\n",
       "      <td>4.852982e+06</td>\n",
       "      <td>7.864026e+06</td>\n",
       "    </tr>\n",
       "    <tr>\n",
       "      <th>Top Studio</th>\n",
       "      <td>2013.840256</td>\n",
       "      <td>2.108577e+08</td>\n",
       "      <td>8.001757e+07</td>\n",
       "    </tr>\n",
       "  </tbody>\n",
       "</table>\n",
       "</div>"
      ],
      "text/plain": [
       "                      year        profit        budget\n",
       "top_or_bottom                                         \n",
       "Bottom Studio  2011.805195  4.852982e+06  7.864026e+06\n",
       "Top Studio     2013.840256  2.108577e+08  8.001757e+07"
      ]
     },
     "execution_count": 15,
     "metadata": {},
     "output_type": "execute_result"
    }
   ],
   "source": [
    "# A good statistic to take away\n",
    "top_bottom_studios.groupby('top_or_bottom').mean()"
   ]
  },
  {
   "cell_type": "code",
   "execution_count": 16,
   "metadata": {},
   "outputs": [
    {
     "data": {
      "image/png": "[encoded data removed]",
      "text/plain": [
       "<Figure size 467.125x360 with 1 Axes>"
      ]
     },
     "metadata": {
      "needs_background": "light"
     },
     "output_type": "display_data"
    }
   ],
   "source": [
    "# potential visual of the distribution of budgets by top and bottom\n",
    "sns.displot(top_bottom_studios, x=\"budget\", hue=\"top_or_bottom\");"
   ]
  },
  {
   "cell_type": "code",
   "execution_count": 17,
   "metadata": {},
   "outputs": [],
   "source": [
    "bom['top_or_bottom'] = ['Top Studio' if x in top_studios else ('Bottom Studio' if x in bottom_studios else np.nan) for x in bom['studio']]\n",
    "bom_imbd = pd.merge(bom,imdb,how='inner',on=['title','year']).dropna().reset_index(drop=True)\n",
    "tb_genre = []\n",
    "for i in range(len(bom_imbd)):\n",
    "    studio = bom_imbd['studio'][i]\n",
    "    rank = bom_imbd['top_or_bottom'][i]\n",
    "    try:\n",
    "        genres_list = bom_imbd['genres'][i].split(',')\n",
    "        for j in range(len(genres_list)):\n",
    "            tb_genre.append([rank,studio,genres_list[j]])\n",
    "    except:\n",
    "        continue\n",
    "tb_genre = pd.DataFrame(tb_genre).rename(columns={0:'rank',1:'studio',2:'genre'})"
   ]
  },
  {
   "cell_type": "code",
   "execution_count": 18,
   "metadata": {},
   "outputs": [
    {
     "data": {
      "image/png": "[encoded data removed]",
      "text/plain": [
       "<Figure size 720x360 with 2 Axes>"
      ]
     },
     "metadata": {
      "needs_background": "light"
     },
     "output_type": "display_data"
    }
   ],
   "source": [
    "# Must use visual about top genres for top or bottom studios\n",
    "top = tb_genre[tb_genre['rank']=='Top Studio']['genre'].value_counts(normalize=True)[:5].reset_index().rename(columns={'index':'genre','genre':'percentage'})\n",
    "bottom = tb_genre[tb_genre['rank']=='Bottom Studio']['genre'].value_counts(normalize=True)[:5].reset_index().rename(columns={'index':'genre','genre':'percentage'})\n",
    "fig,axes = plt.subplots(ncols=2,figsize=(10,5))\n",
    "df1 = top\n",
    "df2 = bottom\n",
    "sns.barplot(ax=axes[0],data=df1,x='genre',y='percentage')\n",
    "sns.barplot(ax=axes[1],data=df2,x='genre',y='percentage');\n"
   ]
  },
  {
   "cell_type": "markdown",
   "metadata": {},
   "source": [
    "# Data Visualizations"
   ]
  },
  {
   "cell_type": "code",
   "execution_count": 23,
   "metadata": {},
   "outputs": [
    {
     "data": {
      "image/png": "[encoded data removed]",
      "text/plain": [
       "<Figure size 432x288 with 1 Axes>"
      ]
     },
     "metadata": {
      "needs_background": "light"
     },
     "output_type": "display_data"
    }
   ],
   "source": [
    "#profit v budget\n",
    "fig,ax = plt.subplots()\n",
    "datax = the_num['budget']\n",
    "datay = the_num['profit']\n",
    "ax = sns.scatterplot(x = datax,y = datay)"
   ]
  },
  {
   "cell_type": "markdown",
   "metadata": {},
   "source": [
    "# Opus Analysis"
   ]
  },
  {
   "cell_type": "code",
   "execution_count": 31,
   "metadata": {},
   "outputs": [],
   "source": [
    "new_opus = opus[['profit','rating','source','genre','sequel']]\n",
    "\n"
   ]
  },
  {
   "cell_type": "code",
   "execution_count": 32,
   "metadata": {},
   "outputs": [
    {
     "data": {
      "text/html": [
       "<div>\n",
       "<style scoped>\n",
       "    .dataframe tbody tr th:only-of-type {\n",
       "        vertical-align: middle;\n",
       "    }\n",
       "\n",
       "    .dataframe tbody tr th {\n",
       "        vertical-align: top;\n",
       "    }\n",
       "\n",
       "    .dataframe thead th {\n",
       "        text-align: right;\n",
       "    }\n",
       "</style>\n",
       "<table border=\"1\" class=\"dataframe\">\n",
       "  <thead>\n",
       "    <tr style=\"text-align: right;\">\n",
       "      <th></th>\n",
       "      <th>profit</th>\n",
       "      <th>sequel</th>\n",
       "    </tr>\n",
       "    <tr>\n",
       "      <th>rating</th>\n",
       "      <th></th>\n",
       "      <th></th>\n",
       "    </tr>\n",
       "  </thead>\n",
       "  <tbody>\n",
       "    <tr>\n",
       "      <th>PG</th>\n",
       "      <td>1.564800e+08</td>\n",
       "      <td>0.183871</td>\n",
       "    </tr>\n",
       "    <tr>\n",
       "      <th>G</th>\n",
       "      <td>1.505164e+08</td>\n",
       "      <td>0.250000</td>\n",
       "    </tr>\n",
       "    <tr>\n",
       "      <th>PG-13</th>\n",
       "      <td>1.443768e+08</td>\n",
       "      <td>0.181467</td>\n",
       "    </tr>\n",
       "    <tr>\n",
       "      <th>R</th>\n",
       "      <td>5.122643e+07</td>\n",
       "      <td>0.108289</td>\n",
       "    </tr>\n",
       "    <tr>\n",
       "      <th>NC-17</th>\n",
       "      <td>5.016743e+07</td>\n",
       "      <td>0.000000</td>\n",
       "    </tr>\n",
       "    <tr>\n",
       "      <th>Not Rated</th>\n",
       "      <td>3.132169e+07</td>\n",
       "      <td>0.125000</td>\n",
       "    </tr>\n",
       "  </tbody>\n",
       "</table>\n",
       "</div>"
      ],
      "text/plain": [
       "                 profit    sequel\n",
       "rating                           \n",
       "PG         1.564800e+08  0.183871\n",
       "G          1.505164e+08  0.250000\n",
       "PG-13      1.443768e+08  0.181467\n",
       "R          5.122643e+07  0.108289\n",
       "NC-17      5.016743e+07  0.000000\n",
       "Not Rated  3.132169e+07  0.125000"
      ]
     },
     "execution_count": 32,
     "metadata": {},
     "output_type": "execute_result"
    }
   ],
   "source": [
    "# avg_profit vs rating\n",
    "new_opus.groupby('rating').mean().sort_values('profit',ascending=False)\n",
    "\n"
   ]
  },
  {
   "cell_type": "code",
   "execution_count": 33,
   "metadata": {},
   "outputs": [
    {
     "name": "stderr",
     "output_type": "stream",
     "text": [
      "<ipython-input-33-6ea56f9fd106>:2: SettingWithCopyWarning: \n",
      "A value is trying to be set on a copy of a slice from a DataFrame.\n",
      "Try using .loc[row_indexer,col_indexer] = value instead\n",
      "\n",
      "See the caveats in the documentation: https://pandas.pydata.org/pandas-docs/stable/user_guide/indexing.html#returning-a-view-versus-a-copy\n",
      "  new_opus['source'] = new_opus['source'].map(lambda x : 'Original' if x=='Original Screenplay' else 'Adapted')\n"
     ]
    },
    {
     "data": {
      "text/html": [
       "<div>\n",
       "<style scoped>\n",
       "    .dataframe tbody tr th:only-of-type {\n",
       "        vertical-align: middle;\n",
       "    }\n",
       "\n",
       "    .dataframe tbody tr th {\n",
       "        vertical-align: top;\n",
       "    }\n",
       "\n",
       "    .dataframe thead tr th {\n",
       "        text-align: left;\n",
       "    }\n",
       "\n",
       "    .dataframe thead tr:last-of-type th {\n",
       "        text-align: right;\n",
       "    }\n",
       "</style>\n",
       "<table border=\"1\" class=\"dataframe\">\n",
       "  <thead>\n",
       "    <tr>\n",
       "      <th></th>\n",
       "      <th colspan=\"2\" halign=\"left\">profit</th>\n",
       "      <th colspan=\"2\" halign=\"left\">sequel</th>\n",
       "    </tr>\n",
       "    <tr>\n",
       "      <th></th>\n",
       "      <th>mean</th>\n",
       "      <th>count</th>\n",
       "      <th>mean</th>\n",
       "      <th>count</th>\n",
       "    </tr>\n",
       "    <tr>\n",
       "      <th>source</th>\n",
       "      <th></th>\n",
       "      <th></th>\n",
       "      <th></th>\n",
       "      <th></th>\n",
       "    </tr>\n",
       "  </thead>\n",
       "  <tbody>\n",
       "    <tr>\n",
       "      <th>Adapted</th>\n",
       "      <td>1.232048e+08</td>\n",
       "      <td>1030</td>\n",
       "      <td>0.156311</td>\n",
       "      <td>1030</td>\n",
       "    </tr>\n",
       "    <tr>\n",
       "      <th>Original</th>\n",
       "      <td>8.698979e+07</td>\n",
       "      <td>906</td>\n",
       "      <td>0.148230</td>\n",
       "      <td>904</td>\n",
       "    </tr>\n",
       "  </tbody>\n",
       "</table>\n",
       "</div>"
      ],
      "text/plain": [
       "                profit          sequel      \n",
       "                  mean count      mean count\n",
       "source                                      \n",
       "Adapted   1.232048e+08  1030  0.156311  1030\n",
       "Original  8.698979e+07   906  0.148230   904"
      ]
     },
     "execution_count": 33,
     "metadata": {},
     "output_type": "execute_result"
    }
   ],
   "source": [
    "# avg_profit vs original or adapted\n",
    "new_opus['source'] = new_opus['source'].map(lambda x : 'Original' if x=='Original Screenplay' else 'Adapted')\n",
    "new_opus.groupby('source').agg(['mean','count'])\n",
    "\n"
   ]
  },
  {
   "cell_type": "code",
   "execution_count": 34,
   "metadata": {},
   "outputs": [
    {
     "data": {
      "text/html": [
       "<div>\n",
       "<style scoped>\n",
       "    .dataframe tbody tr th:only-of-type {\n",
       "        vertical-align: middle;\n",
       "    }\n",
       "\n",
       "    .dataframe tbody tr th {\n",
       "        vertical-align: top;\n",
       "    }\n",
       "\n",
       "    .dataframe thead tr th {\n",
       "        text-align: left;\n",
       "    }\n",
       "\n",
       "    .dataframe thead tr:last-of-type th {\n",
       "        text-align: right;\n",
       "    }\n",
       "</style>\n",
       "<table border=\"1\" class=\"dataframe\">\n",
       "  <thead>\n",
       "    <tr>\n",
       "      <th></th>\n",
       "      <th colspan=\"2\" halign=\"left\">profit</th>\n",
       "      <th colspan=\"2\" halign=\"left\">sequel</th>\n",
       "    </tr>\n",
       "    <tr>\n",
       "      <th></th>\n",
       "      <th>mean</th>\n",
       "      <th>count</th>\n",
       "      <th>mean</th>\n",
       "      <th>count</th>\n",
       "    </tr>\n",
       "    <tr>\n",
       "      <th>genre</th>\n",
       "      <th></th>\n",
       "      <th></th>\n",
       "      <th></th>\n",
       "      <th></th>\n",
       "    </tr>\n",
       "  </thead>\n",
       "  <tbody>\n",
       "    <tr>\n",
       "      <th>Action</th>\n",
       "      <td>1.919503e+08</td>\n",
       "      <td>311</td>\n",
       "      <td>0.309677</td>\n",
       "      <td>310</td>\n",
       "    </tr>\n",
       "    <tr>\n",
       "      <th>Adventure</th>\n",
       "      <td>2.096487e+08</td>\n",
       "      <td>334</td>\n",
       "      <td>0.267267</td>\n",
       "      <td>333</td>\n",
       "    </tr>\n",
       "    <tr>\n",
       "      <th>Black Comedy</th>\n",
       "      <td>4.843604e+07</td>\n",
       "      <td>24</td>\n",
       "      <td>0.000000</td>\n",
       "      <td>24</td>\n",
       "    </tr>\n",
       "    <tr>\n",
       "      <th>Comedy</th>\n",
       "      <td>5.579564e+07</td>\n",
       "      <td>318</td>\n",
       "      <td>0.116352</td>\n",
       "      <td>318</td>\n",
       "    </tr>\n",
       "    <tr>\n",
       "      <th>Concert/Performance</th>\n",
       "      <td>3.018678e+07</td>\n",
       "      <td>6</td>\n",
       "      <td>0.000000</td>\n",
       "      <td>6</td>\n",
       "    </tr>\n",
       "    <tr>\n",
       "      <th>Documentary</th>\n",
       "      <td>5.147869e+07</td>\n",
       "      <td>5</td>\n",
       "      <td>0.000000</td>\n",
       "      <td>5</td>\n",
       "    </tr>\n",
       "    <tr>\n",
       "      <th>Drama</th>\n",
       "      <td>4.581031e+07</td>\n",
       "      <td>471</td>\n",
       "      <td>0.044586</td>\n",
       "      <td>471</td>\n",
       "    </tr>\n",
       "    <tr>\n",
       "      <th>Horror</th>\n",
       "      <td>7.042893e+07</td>\n",
       "      <td>104</td>\n",
       "      <td>0.307692</td>\n",
       "      <td>104</td>\n",
       "    </tr>\n",
       "    <tr>\n",
       "      <th>Musical</th>\n",
       "      <td>2.473835e+08</td>\n",
       "      <td>25</td>\n",
       "      <td>0.080000</td>\n",
       "      <td>25</td>\n",
       "    </tr>\n",
       "    <tr>\n",
       "      <th>Romantic Comedy</th>\n",
       "      <td>6.773846e+07</td>\n",
       "      <td>82</td>\n",
       "      <td>0.024390</td>\n",
       "      <td>82</td>\n",
       "    </tr>\n",
       "    <tr>\n",
       "      <th>Thriller/Suspense</th>\n",
       "      <td>6.615961e+07</td>\n",
       "      <td>231</td>\n",
       "      <td>0.064935</td>\n",
       "      <td>231</td>\n",
       "    </tr>\n",
       "    <tr>\n",
       "      <th>Western</th>\n",
       "      <td>4.668111e+07</td>\n",
       "      <td>15</td>\n",
       "      <td>0.066667</td>\n",
       "      <td>15</td>\n",
       "    </tr>\n",
       "  </tbody>\n",
       "</table>\n",
       "</div>"
      ],
      "text/plain": [
       "                           profit          sequel      \n",
       "                             mean count      mean count\n",
       "genre                                                  \n",
       "Action               1.919503e+08   311  0.309677   310\n",
       "Adventure            2.096487e+08   334  0.267267   333\n",
       "Black Comedy         4.843604e+07    24  0.000000    24\n",
       "Comedy               5.579564e+07   318  0.116352   318\n",
       "Concert/Performance  3.018678e+07     6  0.000000     6\n",
       "Documentary          5.147869e+07     5  0.000000     5\n",
       "Drama                4.581031e+07   471  0.044586   471\n",
       "Horror               7.042893e+07   104  0.307692   104\n",
       "Musical              2.473835e+08    25  0.080000    25\n",
       "Romantic Comedy      6.773846e+07    82  0.024390    82\n",
       "Thriller/Suspense    6.615961e+07   231  0.064935   231\n",
       "Western              4.668111e+07    15  0.066667    15"
      ]
     },
     "execution_count": 34,
     "metadata": {},
     "output_type": "execute_result"
    }
   ],
   "source": [
    "#avg_profit vs genre\n",
    "new_opus.groupby('genre').agg(['mean','count'])\n",
    "\n"
   ]
  },
  {
   "cell_type": "code",
   "execution_count": 35,
   "metadata": {},
   "outputs": [
    {
     "data": {
      "text/html": [
       "<div>\n",
       "<style scoped>\n",
       "    .dataframe tbody tr th:only-of-type {\n",
       "        vertical-align: middle;\n",
       "    }\n",
       "\n",
       "    .dataframe tbody tr th {\n",
       "        vertical-align: top;\n",
       "    }\n",
       "\n",
       "    .dataframe thead tr th {\n",
       "        text-align: left;\n",
       "    }\n",
       "\n",
       "    .dataframe thead tr:last-of-type th {\n",
       "        text-align: right;\n",
       "    }\n",
       "</style>\n",
       "<table border=\"1\" class=\"dataframe\">\n",
       "  <thead>\n",
       "    <tr>\n",
       "      <th></th>\n",
       "      <th colspan=\"2\" halign=\"left\">profit</th>\n",
       "    </tr>\n",
       "    <tr>\n",
       "      <th></th>\n",
       "      <th>mean</th>\n",
       "      <th>count</th>\n",
       "    </tr>\n",
       "    <tr>\n",
       "      <th>sequel</th>\n",
       "      <th></th>\n",
       "      <th></th>\n",
       "    </tr>\n",
       "  </thead>\n",
       "  <tbody>\n",
       "    <tr>\n",
       "      <th>0.0</th>\n",
       "      <td>7.309008e+07</td>\n",
       "      <td>1639</td>\n",
       "    </tr>\n",
       "    <tr>\n",
       "      <th>1.0</th>\n",
       "      <td>2.913554e+08</td>\n",
       "      <td>295</td>\n",
       "    </tr>\n",
       "  </tbody>\n",
       "</table>\n",
       "</div>"
      ],
      "text/plain": [
       "              profit      \n",
       "                mean count\n",
       "sequel                    \n",
       "0.0     7.309008e+07  1639\n",
       "1.0     2.913554e+08   295"
      ]
     },
     "execution_count": 35,
     "metadata": {},
     "output_type": "execute_result"
    }
   ],
   "source": [
    "#avg_profit vs sequel\n",
    "new_opus.groupby('sequel').agg(['mean','count'])"
   ]
  },
  {
   "cell_type": "code",
   "execution_count": null,
   "metadata": {},
   "outputs": [],
   "source": []
  },
  {
   "cell_type": "code",
   "execution_count": null,
   "metadata": {},
   "outputs": [],
   "source": []
  }
 ],
 "metadata": {
  "kernelspec": {
   "display_name": "Python (learn-env)",
   "language": "python",
   "name": "learn-env"
  },
  "language_info": {
   "codemirror_mode": {
    "name": "ipython",
    "version": 3
   },
   "file_extension": ".py",
   "mimetype": "text/x-python",
   "name": "python",
   "nbconvert_exporter": "python",
   "pygments_lexer": "ipython3",
   "version": "3.8.5"
  }
 },
 "nbformat": 4,
 "nbformat_minor": 4
}
