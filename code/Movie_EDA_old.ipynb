{
 "cells": [
  {
   "cell_type": "markdown",
   "metadata": {},
   "source": [
    "# Set Up"
   ]
  },
  {
   "cell_type": "markdown",
   "metadata": {},
   "source": [
    "Notes: What categories do I want to compare?\n",
    "Title, BOM, opus\n",
    "Year, BOM, opus\n",
    "Genres, opus\n",
    "Studios, BOM\n",
    "Run Time,\n",
    "Gross, BOM, opus\n",
    "Budget, opus\n",
    "Sequel, opus\n",
    "\n",
    "\n",
    "'movie_name', 'production_year', 'movie_odid', 'production_budget', 'domestic_box_office', 'international_box_office', 'rating', 'creative_type', 'source', 'production_method', 'genre', 'sequel', 'running_time'"
   ]
  },
  {
   "cell_type": "code",
   "execution_count": 1,
   "metadata": {},
   "outputs": [],
   "source": [
    "import pandas as pd\n",
    "import requests\n",
    "import json\n",
    "import sqlite3\n",
    "import numpy as np"
   ]
  },
  {
   "cell_type": "code",
   "execution_count": 8,
   "metadata": {},
   "outputs": [],
   "source": [
    "# Making the locations of all of the data files\n",
    "folder = '/Users/ronlodetti/Documents/Flatiron/1_phase/Project_1/Movie_Analysis_Project/data/imported/'\n",
    "bom_loc = folder + 'bom.movie_gross.csv.gz'\n",
    "imdb_loc = folder + 'im.db'\n",
    "rt_movie_loc = folder + 'rt.movie_info.tsv.gz'\n",
    "rt_rev_loc = folder + 'rt.reviews.tsv.gz'\n",
    "tmdb_loc = folder + 'tmdb.movies.csv.gz'\n",
    "thenum_loc = folder + 'tn.movie_budgets.csv.gz'\n",
    "imdb_2_loc = folder + 'im.title.basics.tsv.gz'\n",
    "opus_loc = folder + 'MovieData.csv'"
   ]
  },
  {
   "cell_type": "markdown",
   "metadata": {},
   "source": [
    "# Box Office Mojo\n",
    "\n",
    "Why do i care? studio and financials?\n",
    "Columns = 'title', 'studio', 'domestic_gross', 'foreign_gross', 'year'\n",
    "\n",
    "Number = 3,387\n",
    "\n",
    "Years = 2010 - 2018\n",
    "\n",
    "Title = 'Harry Potter and the Deathly Hallows Part 1'\n",
    "\n",
    "Columns = 'title', 'studio', 'domestic_gross', 'foreign_gross', 'year'"
   ]
  },
  {
   "cell_type": "code",
   "execution_count": 9,
   "metadata": {},
   "outputs": [
    {
     "ename": "NameError",
     "evalue": "name 'bom' is not defined",
     "output_type": "error",
     "traceback": [
      "\u001b[0;31m---------------------------------------------------------------------------\u001b[0m",
      "\u001b[0;31mNameError\u001b[0m                                 Traceback (most recent call last)",
      "\u001b[0;32m<ipython-input-9-eb3214c575df>\u001b[0m in \u001b[0;36m<module>\u001b[0;34m\u001b[0m\n\u001b[1;32m      7\u001b[0m \u001b[0;31m# test = pd.DataFrame(bom['studio'].value_counts())\u001b[0m\u001b[0;34m\u001b[0m\u001b[0;34m\u001b[0m\u001b[0;34m\u001b[0m\u001b[0m\n\u001b[1;32m      8\u001b[0m \u001b[0;31m# list(test[test > 10].dropna().index)\u001b[0m\u001b[0;34m\u001b[0m\u001b[0;34m\u001b[0m\u001b[0;34m\u001b[0m\u001b[0m\n\u001b[0;32m----> 9\u001b[0;31m \u001b[0mbom\u001b[0m\u001b[0;34m[\u001b[0m\u001b[0mbom\u001b[0m\u001b[0;34m[\u001b[0m\u001b[0;34m'title'\u001b[0m\u001b[0;34m]\u001b[0m\u001b[0;34m==\u001b[0m\u001b[0;34m'Get Out'\u001b[0m\u001b[0;34m]\u001b[0m\u001b[0;34m\u001b[0m\u001b[0;34m\u001b[0m\u001b[0m\n\u001b[0m",
      "\u001b[0;31mNameError\u001b[0m: name 'bom' is not defined"
     ]
    }
   ],
   "source": [
    "#Box Office Mojo\n",
    "# bom = pd.read_csv('/Users/ronlodetti/Documents/Flatiron/1_phase/Project_1/dsc-phase-1-project-v2-4/zippedData/bom.movie_gross.csv.gz')\n",
    "# for i in bom.columns:\n",
    "#     print(bom[i].value_counts())\n",
    "#     print('\\n')\n",
    "# bom[bom['studio'] == 'IFC'].sort_values('domestic_gross',ascending=False)\n",
    "# test = pd.DataFrame(bom['studio'].value_counts())\n",
    "# list(test[test > 10].dropna().index)\n",
    "bom[bom['title']=='Get Out']"
   ]
  },
  {
   "cell_type": "code",
   "execution_count": 18,
   "metadata": {},
   "outputs": [],
   "source": [
    "the_num = pd.read_csv(thenum_loc)\n",
    "tmbd = pd.read_csv(tmdb_loc)"
   ]
  },
  {
   "cell_type": "code",
   "execution_count": 19,
   "metadata": {},
   "outputs": [
    {
     "name": "stdout",
     "output_type": "stream",
     "text": [
      "<class 'pandas.core.frame.DataFrame'>\n",
      "RangeIndex: 26517 entries, 0 to 26516\n",
      "Data columns (total 10 columns):\n",
      " #   Column             Non-Null Count  Dtype  \n",
      "---  ------             --------------  -----  \n",
      " 0   Unnamed: 0         26517 non-null  int64  \n",
      " 1   genre_ids          26517 non-null  object \n",
      " 2   id                 26517 non-null  int64  \n",
      " 3   original_language  26517 non-null  object \n",
      " 4   original_title     26517 non-null  object \n",
      " 5   popularity         26517 non-null  float64\n",
      " 6   release_date       26517 non-null  object \n",
      " 7   title              26517 non-null  object \n",
      " 8   vote_average       26517 non-null  float64\n",
      " 9   vote_count         26517 non-null  int64  \n",
      "dtypes: float64(2), int64(3), object(5)\n",
      "memory usage: 2.0+ MB\n"
     ]
    }
   ],
   "source": [
    "tmbd.info()"
   ]
  },
  {
   "cell_type": "markdown",
   "metadata": {},
   "source": [
    "# IMDB"
   ]
  },
  {
   "cell_type": "markdown",
   "metadata": {},
   "source": [
    "### SQL Database\n",
    "Number = 146,144\n",
    "\n",
    "Years = 2010 - 2021\n",
    "\n",
    "Title = Harry Potter and the Deathly Hallows: Part 1\n",
    "\n",
    "movie_basics columns = 'movie_id', 'primary_title', 'original_title', 'start_year', 'runtime_minutes', 'genres'"
   ]
  },
  {
   "cell_type": "code",
   "execution_count": 17,
   "metadata": {},
   "outputs": [],
   "source": [
    "conn = sqlite3.connect(imdb_loc)"
   ]
  },
  {
   "cell_type": "code",
   "execution_count": 410,
   "metadata": {
    "scrolled": true
   },
   "outputs": [
    {
     "name": "stdout",
     "output_type": "stream",
     "text": [
      "<class 'pandas.core.frame.DataFrame'>\n",
      "RangeIndex: 146144 entries, 0 to 146143\n",
      "Data columns (total 6 columns):\n",
      " #   Column           Non-Null Count   Dtype  \n",
      "---  ------           --------------   -----  \n",
      " 0   movie_id         146144 non-null  object \n",
      " 1   primary_title    146144 non-null  object \n",
      " 2   original_title   146123 non-null  object \n",
      " 3   start_year       146144 non-null  int64  \n",
      " 4   runtime_minutes  114405 non-null  float64\n",
      " 5   genres           140736 non-null  object \n",
      "dtypes: float64(1), int64(1), object(4)\n",
      "memory usage: 6.7+ MB\n"
     ]
    }
   ],
   "source": [
    "conn = sqlite3.connect(imdb_loc)\n",
    "q = \"\"\"\n",
    "SELECT *\n",
    "FROM movie_basics;\n",
    "\n",
    "\"\"\"\n",
    "pd.read_sql(q, conn).info()"
   ]
  },
  {
   "cell_type": "markdown",
   "metadata": {},
   "source": [
    "### OpusData\n",
    "\n",
    "Why do I care? Many columns\n",
    "\n",
    "size = 1936\n",
    "\n",
    "years = 2006 - 2017\n",
    "\n",
    "columns = 'movie_name', 'production_year', 'movie_odid', 'production_budget', 'domestic_box_office', 'international_box_office', 'rating', 'creative_type', 'source', 'production_method', 'genre', 'sequel', 'running_time'"
   ]
  },
  {
   "cell_type": "code",
   "execution_count": 404,
   "metadata": {},
   "outputs": [
    {
     "name": "stdout",
     "output_type": "stream",
     "text": [
      "<class 'pandas.core.frame.DataFrame'>\n",
      "RangeIndex: 1936 entries, 0 to 1935\n",
      "Data columns (total 13 columns):\n",
      " #   Column                    Non-Null Count  Dtype  \n",
      "---  ------                    --------------  -----  \n",
      " 0   movie_name                1936 non-null   object \n",
      " 1   production_year           1936 non-null   int64  \n",
      " 2   movie_odid                1936 non-null   int64  \n",
      " 3   production_budget         1936 non-null   int64  \n",
      " 4   domestic_box_office       1936 non-null   int64  \n",
      " 5   international_box_office  1936 non-null   int64  \n",
      " 6   rating                    1913 non-null   object \n",
      " 7   creative_type             1923 non-null   object \n",
      " 8   source                    1915 non-null   object \n",
      " 9   production_method         1925 non-null   object \n",
      " 10  genre                     1926 non-null   object \n",
      " 11  sequel                    1934 non-null   float64\n",
      " 12  running_time              1822 non-null   float64\n",
      "dtypes: float64(2), int64(5), object(6)\n",
      "memory usage: 196.8+ KB\n"
     ]
    }
   ],
   "source": [
    "opus_df = pd.read_csv(opus_loc)\n",
    "# for i in opus_df.columns:\n",
    "#     print(opus_df[i].value_counts())\n",
    "#     print('\\n')\n",
    "# opus_df['production_year'].value_counts()\n",
    "opus_df.info()"
   ]
  },
  {
   "cell_type": "markdown",
   "metadata": {},
   "source": [
    "# Discarded"
   ]
  },
  {
   "cell_type": "code",
   "execution_count": 406,
   "metadata": {},
   "outputs": [],
   "source": [
    "# Downloaded set from IMBD, Dont want to use\n",
    "# imdb = pd.read_csv(imdb_2_loc,sep=\"\\t\",low_memory=False)\n",
    "# imdb = imdb[imdb['titleType']=='movie']\n",
    "# imdb = imdb[['tconst', 'primaryTitle','startYear','runtimeMinutes', 'genres']]\n",
    "# imdb = imdb[imdb['startYear']!='\\\\N']\n",
    "# imdb = imdb.astype({'startYear':int})\n",
    "# imdb = imdb[imdb['startYear'] >= 2010]\n",
    "# imdb['runtimeMinutes'].loc[imdb['runtimeMinutes']=='\\\\N'] = np.nan\n",
    "# imdb['genres'].loc[imdb['genres']=='\\\\N'] = np.nan\n"
   ]
  },
  {
   "cell_type": "code",
   "execution_count": 409,
   "metadata": {
    "scrolled": true
   },
   "outputs": [],
   "source": [
    "# The Movie Database\n",
    "# tmdb_df = pd.read_csv(tmdb_loc)\n",
    "# tmdb_df['release_date']\n",
    "# pd.to_datetime(tmdb_df['release_date']).dt.year[pd.to_datetime(tmdb_df['release_date']).dt.year>2010].value_counts()"
   ]
  }
 ],
 "metadata": {
  "kernelspec": {
   "display_name": "Python (learn-env)",
   "language": "python",
   "name": "learn-env"
  },
  "language_info": {
   "codemirror_mode": {
    "name": "ipython",
    "version": 3
   },
   "file_extension": ".py",
   "mimetype": "text/x-python",
   "name": "python",
   "nbconvert_exporter": "python",
   "pygments_lexer": "ipython3",
   "version": "3.8.5"
  }
 },
 "nbformat": 4,
 "nbformat_minor": 4
}
