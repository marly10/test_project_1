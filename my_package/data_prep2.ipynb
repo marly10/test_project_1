{
 "cells": [
  {
   "cell_type": "code",
   "execution_count": 146,
   "metadata": {
    "ExecuteTime": {
     "end_time": "2023-04-08T02:33:49.597483Z",
     "start_time": "2023-04-08T02:33:49.587231Z"
    }
   },
   "outputs": [],
   "source": [
    "# Box Office\n",
    "def prep_box_office(df):\n",
    "    # Convert currencies to integers.\n",
    "    for i in ['production_budget', 'worldwide_gross']:\n",
    "        df[i] = df[i].str.replace('$', '')\n",
    "        df[i] = df[i].str.replace(',', '')\n",
    "        df[i] = df[i].str.replace(' ', '')\n",
    "        df[i] = df[i].astype(int)\n",
    "\n",
    "    # Create a new column to calculate ROI.\n",
    "    profit = df['worldwide_gross'] - df['production_budget']\n",
    "    df['ROI'] = (profit/df['production_budget']) * 100\n",
    "\n",
    "    # Extracting the year from 'release_date' column.\n",
    "    df['year'] = pd.to_datetime(df['release_date']).dt.year\n",
    "\n",
    "    # Norming and filtering column names\n",
    "    df.rename(columns={'movie': 'title',\n",
    "                       'production_budget': 'budget'}, inplace=True)\n",
    "    for i in ['title']:\n",
    "        df[i] = df[i].str.translate(str.maketrans('', '', string.punctuation))\n",
    "        df[i] = df[i].str.replace(' ', '')\n",
    "        df[i] = df[i].str.lower()\n",
    "    df = df[['title', 'year', 'budget', 'ROI']]\n",
    "    return df"
   ]
  },
  {
   "cell_type": "code",
   "execution_count": null,
   "metadata": {},
   "outputs": [],
   "source": [
    "# Movies\n",
    "def prep_movies(df):\n",
    "    for i in ['title']:\n",
    "        df[i] = df[i].str.translate(str.maketrans('', '', string.punctuation))\n",
    "        df[i] = df[i].str.replace(' ', '')\n",
    "        df[i] = df[i].str.lower()\n",
    "    return df\n",
    "\n",
    "\n",
    "imdb_df = imdb_df.explode('genres')"
   ]
  },
  {
   "cell_type": "code",
   "execution_count": null,
   "metadata": {},
   "outputs": [],
   "source": [
    "# Genres\n",
    "def prep_genres(df):\n",
    "    df['genres'] = df['genres'].map(lambda x: x.split(','), na_action='ignore')\n",
    "    return df"
   ]
  }
 ],
 "metadata": {
  "kernelspec": {
   "display_name": "Python (learn-env)",
   "language": "python",
   "name": "learn-env"
  },
  "language_info": {
   "codemirror_mode": {
    "name": "ipython",
    "version": 3
   },
   "file_extension": ".py",
   "mimetype": "text/x-python",
   "name": "python",
   "nbconvert_exporter": "python",
   "pygments_lexer": "ipython3",
   "version": "3.8.5"
  }
 },
 "nbformat": 4,
 "nbformat_minor": 4
}
