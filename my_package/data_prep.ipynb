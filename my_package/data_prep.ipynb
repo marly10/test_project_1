{
 "cells": [
  {
   "cell_type": "code",
   "execution_count": 1,
   "metadata": {
    "ExecuteTime": {
     "end_time": "2023-04-08T10:42:00.880937Z",
     "start_time": "2023-04-08T10:41:59.734411Z"
    }
   },
   "outputs": [],
   "source": [
    "import pandas as pd\n",
    "import sqlite3\n",
    "import matplotlib.pyplot as plt\n",
    "import seaborn as sns\n",
    "%matplotlib inline"
   ]
  },
  {
   "cell_type": "code",
   "execution_count": 4,
   "metadata": {
    "ExecuteTime": {
     "end_time": "2023-04-08T10:55:54.737972Z",
     "start_time": "2023-04-08T10:55:49.210727Z"
    }
   },
   "outputs": [],
   "source": [
    "box_office = pd.read_csv(\n",
    "    '/Users/ronlodetti/Documents/Flatiron/1_phase/Project_1/Movie_Analysis_Project/data/imported/tn.movie_budgets.csv.gz')\n",
    "conn = sqlite3.connect(\n",
    "    '/Users/ronlodetti/Documents/Flatiron/1_phase/Project_1/Movie_Analysis_Project/data/imported/im.db')\n",
    "q = \"\"\"\n",
    "SELECT \n",
    "    movie_id,\n",
    "    primary_title AS title,\n",
    "    start_year AS year,\n",
    "    runtime_minutes AS runtime\n",
    "FROM movie_basics \n",
    "JOIN principals\n",
    "    USING('movie_id')\n",
    "JOIN persons\n",
    "    USING('person_id')\n",
    "WHERE job == 'producer'\n",
    "GROUP BY movie_id\n",
    ";\n",
    "\"\"\"\n",
    "movies = pd.read_sql(q, conn)\n",
    "\n",
    "q = \"\"\"\n",
    "SELECT \n",
    "    movie_id,\n",
    "    primary_name AS producer\n",
    "FROM movie_basics \n",
    "JOIN principals\n",
    "    USING('movie_id')\n",
    "JOIN persons\n",
    "    USING('person_id')\n",
    "WHERE job == 'producer'\n",
    ";\n",
    "\"\"\"\n",
    "producers = pd.read_sql(q, conn)\n",
    "\n",
    "q = \"\"\"\n",
    "SELECT \n",
    "    movie_id,\n",
    "    genres\n",
    "FROM movie_basics \n",
    "JOIN principals\n",
    "    USING('movie_id')\n",
    "JOIN persons\n",
    "    USING('person_id')\n",
    "WHERE job == 'producer'\n",
    "GROUP BY movie_id\n",
    ";\n",
    "\"\"\"\n",
    "genres_df = pd.read_sql(q, conn)"
   ]
  },
  {
   "cell_type": "code",
   "execution_count": 146,
   "metadata": {
    "ExecuteTime": {
     "end_time": "2023-04-08T02:33:49.597483Z",
     "start_time": "2023-04-08T02:33:49.587231Z"
    }
   },
   "outputs": [],
   "source": [
    "# Box Office\n",
    "def prep_box_office(df):\n",
    "    # Convert currencies to integers.\n",
    "    for i in ['production_budget', 'worldwide_gross']:\n",
    "        df[i] = df[i].str.replace('$', '')\n",
    "        df[i] = df[i].str.replace(',', '')\n",
    "        df[i] = df[i].str.replace(' ', '')\n",
    "        df[i] = df[i].astype(int)\n",
    "\n",
    "    # Create a new column to calculate ROI.\n",
    "    profit = df['worldwide_gross'] - df['production_budget']\n",
    "    df['ROI'] = (profit/df['production_budget']) * 100\n",
    "\n",
    "    # Extracting the year from 'release_date' column.\n",
    "    df['year'] = pd.to_datetime(df['release_date']).dt.year\n",
    "\n",
    "    # Norming and filtering column names\n",
    "    df.rename(columns={'movie': 'title',\n",
    "                       'production_budget': 'budget'}, inplace=True)\n",
    "    for i in ['title']:\n",
    "        df[i] = df[i].str.translate(str.maketrans('', '', string.punctuation))\n",
    "        df[i] = df[i].str.replace(' ', '')\n",
    "        df[i] = df[i].str.lower()\n",
    "    df = df[['title', 'year', 'budget', 'ROI']]\n",
    "    return df"
   ]
  },
  {
   "cell_type": "code",
   "execution_count": null,
   "metadata": {},
   "outputs": [],
   "source": [
    "# Movies\n",
    "def prep_movies(df):\n",
    "    for i in ['title']:\n",
    "        df[i] = df[i].str.translate(str.maketrans('', '', string.punctuation))\n",
    "        df[i] = df[i].str.replace(' ', '')\n",
    "        df[i] = df[i].str.lower()\n",
    "    return df\n",
    "\n",
    "\n",
    "imdb_df = imdb_df.explode('genres')"
   ]
  },
  {
   "cell_type": "code",
   "execution_count": null,
   "metadata": {},
   "outputs": [],
   "source": [
    "# Genres\n",
    "def prep_genres(df):\n",
    "    df['genres'] = df['genres'].map(lambda x: x.split(','), na_action='ignore')\n",
    "    return df"
   ]
  },
  {
   "cell_type": "code",
   "execution_count": 5,
   "metadata": {
    "ExecuteTime": {
     "end_time": "2023-04-08T10:56:04.028057Z",
     "start_time": "2023-04-08T10:56:03.731044Z"
    }
   },
   "outputs": [],
   "source": [
    "genres_df['genres'] = genres_df['genres'].map(lambda x: x.split(','), na_action='ignore')\n",
    "genres_df = genres_df.explode('genres')\n"
   ]
  },
  {
   "cell_type": "code",
   "execution_count": 6,
   "metadata": {
    "ExecuteTime": {
     "end_time": "2023-04-08T10:56:08.279365Z",
     "start_time": "2023-04-08T10:56:08.261414Z"
    }
   },
   "outputs": [
    {
     "data": {
      "text/html": [
       "<div>\n",
       "<style scoped>\n",
       "    .dataframe tbody tr th:only-of-type {\n",
       "        vertical-align: middle;\n",
       "    }\n",
       "\n",
       "    .dataframe tbody tr th {\n",
       "        vertical-align: top;\n",
       "    }\n",
       "\n",
       "    .dataframe thead th {\n",
       "        text-align: right;\n",
       "    }\n",
       "</style>\n",
       "<table border=\"1\" class=\"dataframe\">\n",
       "  <thead>\n",
       "    <tr style=\"text-align: right;\">\n",
       "      <th></th>\n",
       "      <th>movie_id</th>\n",
       "      <th>genres</th>\n",
       "    </tr>\n",
       "  </thead>\n",
       "  <tbody>\n",
       "    <tr>\n",
       "      <th>0</th>\n",
       "      <td>tt0069049</td>\n",
       "      <td>Drama</td>\n",
       "    </tr>\n",
       "    <tr>\n",
       "      <th>1</th>\n",
       "      <td>tt0100275</td>\n",
       "      <td>Comedy</td>\n",
       "    </tr>\n",
       "    <tr>\n",
       "      <th>1</th>\n",
       "      <td>tt0100275</td>\n",
       "      <td>Drama</td>\n",
       "    </tr>\n",
       "    <tr>\n",
       "      <th>1</th>\n",
       "      <td>tt0100275</td>\n",
       "      <td>Fantasy</td>\n",
       "    </tr>\n",
       "    <tr>\n",
       "      <th>2</th>\n",
       "      <td>tt0111414</td>\n",
       "      <td>Comedy</td>\n",
       "    </tr>\n",
       "    <tr>\n",
       "      <th>...</th>\n",
       "      <td>...</td>\n",
       "      <td>...</td>\n",
       "    </tr>\n",
       "    <tr>\n",
       "      <th>67575</th>\n",
       "      <td>tt9916160</td>\n",
       "      <td>Documentary</td>\n",
       "    </tr>\n",
       "    <tr>\n",
       "      <th>67576</th>\n",
       "      <td>tt9916186</td>\n",
       "      <td>Documentary</td>\n",
       "    </tr>\n",
       "    <tr>\n",
       "      <th>67577</th>\n",
       "      <td>tt9916538</td>\n",
       "      <td>Drama</td>\n",
       "    </tr>\n",
       "    <tr>\n",
       "      <th>67578</th>\n",
       "      <td>tt9916706</td>\n",
       "      <td>Comedy</td>\n",
       "    </tr>\n",
       "    <tr>\n",
       "      <th>67579</th>\n",
       "      <td>tt9916730</td>\n",
       "      <td>None</td>\n",
       "    </tr>\n",
       "  </tbody>\n",
       "</table>\n",
       "<p>112574 rows × 2 columns</p>\n",
       "</div>"
      ],
      "text/plain": [
       "        movie_id       genres\n",
       "0      tt0069049        Drama\n",
       "1      tt0100275       Comedy\n",
       "1      tt0100275        Drama\n",
       "1      tt0100275      Fantasy\n",
       "2      tt0111414       Comedy\n",
       "...          ...          ...\n",
       "67575  tt9916160  Documentary\n",
       "67576  tt9916186  Documentary\n",
       "67577  tt9916538        Drama\n",
       "67578  tt9916706       Comedy\n",
       "67579  tt9916730         None\n",
       "\n",
       "[112574 rows x 2 columns]"
      ]
     },
     "execution_count": 6,
     "metadata": {},
     "output_type": "execute_result"
    }
   ],
   "source": [
    "genres_df"
   ]
  }
 ],
 "metadata": {
  "kernelspec": {
   "display_name": "Python (learn-env)",
   "language": "python",
   "name": "learn-env"
  },
  "language_info": {
   "codemirror_mode": {
    "name": "ipython",
    "version": 3
   },
   "file_extension": ".py",
   "mimetype": "text/x-python",
   "name": "python",
   "nbconvert_exporter": "python",
   "pygments_lexer": "ipython3",
   "version": "3.8.5"
  }
 },
 "nbformat": 4,
 "nbformat_minor": 4
}
