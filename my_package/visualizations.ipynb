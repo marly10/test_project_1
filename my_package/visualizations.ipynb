{
 "cells": [
  {
   "cell_type": "code",
   "execution_count": 7,
   "metadata": {
    "ExecuteTime": {
     "end_time": "2023-04-10T03:53:21.402334Z",
     "start_time": "2023-04-10T03:53:21.395544Z"
    }
   },
   "outputs": [],
   "source": [
    "import matplotlib.pyplot as plt\n",
    "import seaborn as sns\n",
    "\n",
    "def producer_budget(df):\n",
    "    prod_ranked = df.drop_duplicates(['movie_id', 'producer']).dropna(\n",
    "        axis=0, subset=['producer_rank'])\n",
    "    sns.set_context('talk')\n",
    "    sns.set_style('whitegrid')\n",
    "    fig, ax = plt.subplots(figsize=(8, 8))\n",
    "    sns.boxplot(data=prod_ranked, x='producer_rank', y='budget', showfliers=False, order=[\n",
    "                'High ROI Producers', 'Low ROI Producers'], width=0.4)\n",
    "    ax.set_title('Distribution of Production Budgets\\nby Producers')\n",
    "    ax.set(ylabel='Budget (in millions of dollars)',\n",
    "           xlabel=None)\n",
    "    ax.yaxis.set_major_formatter(lambda x, pos: f'${int(x/1000000)}')\n",
    "    ax.set_xticklabels(['High ROI\\nProducers', 'Low ROI\\nProducers'])\n",
    "\n",
    "def producer_runtime(df):\n",
    "    prod_ranked = df.drop_duplicates(['movie_id', 'producer']).dropna(\n",
    "        axis=0, subset=['producer_rank'])\n",
    "    sns.set_context('talk')\n",
    "    sns.set_style('whitegrid')\n",
    "    fig, ax = plt.subplots(figsize=(8, 8))\n",
    "    sns.boxplot(data=prod_ranked, x='producer_rank', y='runtime', showfliers=False, order=[\n",
    "                'High ROI Producers', 'Low ROI Producers'], width=0.4)\n",
    "    ax.set_title('Distribution Movie Length\\nby Producers')\n",
    "    ax.set(ylabel='Movie Length (in minutes)',\n",
    "           xlabel=None)\n",
    "    #ax.yaxis.set_major_formatter(lambda x, pos: f'${int(x/1000000)}')\n",
    "    ax.set_xticklabels(['High ROI\\nProducers', 'Low ROI\\nProducers'])\n",
    "\n",
    "def producer_genre(df):\n",
    "    genres = df.dropna(axis=0, subset=['producer_rank']).drop_duplicates(\n",
    "        ['movie_id', 'genres'])\n",
    "    top_gen = genres[genres['producer_rank'] == 'High ROI Producers']\n",
    "    bot_gen = genres[genres['producer_rank'] == 'Low ROI Producers']\n",
    "    df1 = top_gen['genres'].value_counts(normalize=True)[:5]\n",
    "    df2 = bot_gen['genres'].value_counts(normalize=True)[:5]\n",
    "    hlabels = list(df1.map(lambda x: \"{:.0%}\".format(x)))\n",
    "    llabels = list(df2.map(lambda x: \"{:.0%}\".format(x)))\n",
    "\n",
    "    colors = {'Horror': '#377eb8', 'Thriller': '#377eb8', 'Mystery': '#377eb8', 'Drama': '#999999',\n",
    "              'Sci-Fi': '#377eb8', 'Action': '#ff7f00', 'Comedy': '#ff7f00', 'Crime': '#ff7f00', 'Adventure': '#ff7f00'}\n",
    "\n",
    "    fig, ax = plt.subplots(1, 2, figsize=(20, 4), sharex=True)\n",
    "    high = sns.barplot(y=df1.index, x=df1.values,\n",
    "                       ax=ax[0], edgecolor='black', palette=colors)\n",
    "    low = sns.barplot(y=df2.index, x=df2.values,\n",
    "                      ax=ax[1], edgecolor='black', palette=colors)\n",
    "    high.set_title('High ROI Producers')\n",
    "    low.set_title('Low ROI Producers')\n",
    "    fig.suptitle('Most Common Genres\\nby Producer Type', y=1.1)\n",
    "    patches = high.patches\n",
    "    for i in range(len(patches)):\n",
    "        x = patches[i].get_x()+patches[i].get_width()-.002\n",
    "        y = patches[i].get_y()+0.55\n",
    "        high.text(x, y, hlabels[i], c='white', weight='bold', ha='right')\n",
    "\n",
    "    patches1 = low.patches\n",
    "    for i in range(len(patches1)):\n",
    "        x = patches1[i].get_x()+patches1[i].get_width()-0.002\n",
    "        y = patches1[i].get_y()+0.55\n",
    "        low.text(x, y, llabels[i], c='white', weight='bold', ha='right')\n",
    "\n",
    "    high.xaxis.set_major_formatter(lambda x, pos: \"{:.0%}\".format(x))"
   ]
  }
 ],
 "metadata": {
  "kernelspec": {
   "display_name": "Python (learn-env)",
   "language": "python",
   "name": "learn-env"
  },
  "language_info": {
   "codemirror_mode": {
    "name": "ipython",
    "version": 3
   },
   "file_extension": ".py",
   "mimetype": "text/x-python",
   "name": "python",
   "nbconvert_exporter": "python",
   "pygments_lexer": "ipython3",
   "version": "3.8.5"
  }
 },
 "nbformat": 4,
 "nbformat_minor": 4
}
