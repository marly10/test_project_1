{
 "cells": [
  {
   "cell_type": "markdown",
   "metadata": {},
   "source": [
    "# 1. Setup\n",
    "1. Import libraries\n",
    "2. Import data\n",
    "3. Basic data cleaning"
   ]
  },
  {
   "cell_type": "code",
   "execution_count": 1,
   "metadata": {
    "ExecuteTime": {
     "end_time": "2023-04-07T11:05:19.345375Z",
     "start_time": "2023-04-07T11:05:15.760532Z"
    },
    "code_folding": [
     45
    ]
   },
   "outputs": [],
   "source": [
    "import pandas as pd\n",
    "import matplotlib.pyplot as plt\n",
    "import seaborn as sns\n",
    "import sqlite3\n",
    "# import numpy as np\n",
    "import string\n",
    "import difflib\n",
    "%matplotlib inline\n",
    "\n",
    "tn_df = pd.read_csv(\n",
    "    '/Users/ronlodetti/Documents/Flatiron/1_phase/Project_1/Movie_Analysis_Project/data/imported/tn.movie_budgets.csv.gz')\n",
    "conn = sqlite3.connect(\n",
    "    '/Users/ronlodetti/Documents/Flatiron/1_phase/Project_1/Movie_Analysis_Project/data/imported/im.db')\n",
    "\n",
    "# importing producers table\n",
    "q = \"\"\"\n",
    "SELECT \n",
    "    movie_id,\n",
    "    primary_title AS title,\n",
    "    start_year AS year,\n",
    "    runtime_minutes AS runtime,\n",
    "    genres,\n",
    "    primary_name AS producer\n",
    "FROM movie_basics \n",
    "JOIN principals\n",
    "    USING('movie_id')\n",
    "JOIN persons\n",
    "    USING('person_id')\n",
    "WHERE job == 'producer' \n",
    "    AND start_year <= 2018 \n",
    "    AND runtime_minutes BETWEEN 30 AND 240;\n",
    "\n",
    "\"\"\"\n",
    "imdb_df = pd.read_sql(q, conn)"
   ]
  },
  {
   "cell_type": "markdown",
   "metadata": {},
   "source": [
    "## Feature Engineering"
   ]
  },
  {
   "cell_type": "code",
   "execution_count": 2,
   "metadata": {
    "ExecuteTime": {
     "end_time": "2023-04-07T11:21:40.236976Z",
     "start_time": "2023-04-07T11:05:22.493209Z"
    },
    "code_folding": [
     0,
     7,
     15
    ]
   },
   "outputs": [],
   "source": [
    "def clean_titles(series):\n",
    "    series = series.translate(str.maketrans('', '', string.punctuation))\n",
    "    series = series.replace(' ', '')\n",
    "    series = series.lower()\n",
    "    return series\n",
    "\n",
    "\n",
    "def clean_currency(series):\n",
    "    series = series.replace('$', '')\n",
    "    series = series.replace(',', '')\n",
    "    series = series.replace(' ', '')\n",
    "    series = int(series)\n",
    "    return series\n",
    "\n",
    "\n",
    "def title_norm(df1, df2):\n",
    "    '''\n",
    "    This function takes the titles from df1, looks through the titles from\n",
    "    df2, and if they pass a threshold, are replaced by matched title from \n",
    "    df2, aligning the titles for merging purposes. \n",
    "    '''\n",
    "    df1.reset_index(drop=True, inplace=True)\n",
    "    df2.reset_index(drop=True, inplace=True)\n",
    "    for i in range(len(df1)):\n",
    "        df1_title = df1['title'][i]\n",
    "        match = difflib.get_close_matches(\n",
    "            df1_title, df2['title'], n=1, cutoff=0.8)\n",
    "        try:\n",
    "            df2_title = match[0]\n",
    "            index = df2[df2['title'] == df2_title].index[0]\n",
    "            if (df1_title != df2_title) & (df1['year'][i] == df2['year'][index]):\n",
    "                df1['title'].replace(df1_title, df2_title, inplace=True)\n",
    "            else:\n",
    "                continue\n",
    "        except:\n",
    "            continue\n",
    "\n",
    "# Convert currencies to integers.\n",
    "tn_df['production_budget'] = tn_df['production_budget'].apply(clean_currency)\n",
    "tn_df['worldwide_gross'] = tn_df['worldwide_gross'].apply(clean_currency)\n",
    "\n",
    "# Create a new column to calculate profit.\n",
    "profit = tn_df['worldwide_gross'] - tn_df['production_budget']\n",
    "tn_df['ROI'] = (profit/tn_df['production_budget']) * 100\n",
    "\n",
    "# Extracting the year from 'release_date' column.\n",
    "tn_df['year'] = pd.to_datetime(tn_df['release_date']).dt.year\n",
    "\n",
    "# Filtering data for movies that have been released since 2006\n",
    "tn_df = tn_df.loc[(tn_df['year'] >= 2006) & (tn_df['year'] <= 2018)]\n",
    "\n",
    "# Norming and filtering column names\n",
    "tn_df.rename(columns={'movie': 'title',\n",
    "             'production_budget': 'budget'}, inplace=True)\n",
    "\n",
    "imdb_df['title'] = imdb_df['title'].apply(clean_titles)\n",
    "tn_df['title'] = tn_df['title'].apply(clean_titles)\n",
    "\n",
    "imdb_df['genres'] = imdb_df['genres'].map(\n",
    "    lambda x: x.split(','), na_action='ignore')\n",
    "imdb_df = imdb_df.explode('genres')\n",
    "\n",
    "title_norm(tn_df, imdb_df)"
   ]
  },
  {
   "cell_type": "code",
   "execution_count": null,
   "metadata": {},
   "outputs": [],
   "source": []
  },
  {
   "cell_type": "code",
   "execution_count": null,
   "metadata": {
    "code_folding": []
   },
   "outputs": [],
   "source": [
    "# Write clean data to files\n",
    "imdb_df.to_csv(\n",
    "    '/Users/ronlodetti/Documents/Flatiron/1_phase/Project_1/Movie_Analysis_Project/data/cleaned/imdb_clean.csv',index=False)\n",
    "tn_df.to_csv(\n",
    "    '/Users/ronlodetti/Documents/Flatiron/1_phase/Project_1/Movie_Analysis_Project/data/cleaned/tn_clean.csv',index=False)"
   ]
  },
  {
   "cell_type": "markdown",
   "metadata": {
    "code_folding": []
   },
   "source": [
    "1. Find top and bottom producers\n",
    "2. Explore genres\n",
    "3. explore Runtime\n",
    "4. explore budget\n"
   ]
  },
  {
   "cell_type": "code",
   "execution_count": null,
   "metadata": {},
   "outputs": [],
   "source": [
    "q = \"\"\"\n",
    "SELECT *\n",
    "FROM tn\n",
    "JOIN imdb\n",
    "    USING('title','year')\n",
    "JOIN producers\n",
    "USING(movie_id);\n",
    "\n",
    "\"\"\"\n",
    "df = pd.read_sql(q, conn)"
   ]
  },
  {
   "cell_type": "code",
   "execution_count": null,
   "metadata": {},
   "outputs": [],
   "source": [
    "prod = list(df['producer'].value_counts()[df['producer'].value_counts()>7].index)\n",
    "\n",
    "df2 = df[df['producer'].isin(prod)][['producer','ROI','budget','title','movie_id']].drop_duplicates(['movie_id','producer'])\n",
    "\n",
    "df2.groupby('producer').agg(['mean','median','count'])['ROI'].sort_values('mean',ascending=False)\n"
   ]
  },
  {
   "cell_type": "code",
   "execution_count": null,
   "metadata": {},
   "outputs": [],
   "source": [
    "df_single = df[['producer','ROI','budget','title','movie_id']].drop_duplicates(['movie_id','producer'])\n",
    "\n",
    "prod = list(df_single['producer'].value_counts()[df_single['producer'].value_counts()>3].index)\n",
    "\n",
    "df2 = df_single[df_single['producer'].isin(prod)]\n",
    "\n",
    "mn = df2.groupby('producer').agg(['mean','median','count'])['ROI'].sort_values('mean',ascending=False)\n",
    "mdn = df2.groupby('producer').agg(['mean','median','count'])['ROI'].sort_values('median',ascending=False)\n",
    "top_mn = list(mn.head(10).index)\n",
    "bot_mn = list(mn.tail(10).index)\n",
    "top_mdn = list(mdn.head(10).index)\n",
    "bot_mdn = list(mdn.tail(10).index)"
   ]
  },
  {
   "cell_type": "code",
   "execution_count": null,
   "metadata": {
    "scrolled": true
   },
   "outputs": [],
   "source": [
    "top_mn"
   ]
  },
  {
   "cell_type": "code",
   "execution_count": null,
   "metadata": {},
   "outputs": [],
   "source": [
    "top_mdn"
   ]
  },
  {
   "cell_type": "code",
   "execution_count": null,
   "metadata": {},
   "outputs": [],
   "source": [
    "bot_mn"
   ]
  },
  {
   "cell_type": "code",
   "execution_count": null,
   "metadata": {},
   "outputs": [],
   "source": [
    "bot_mdn"
   ]
  },
  {
   "cell_type": "code",
   "execution_count": null,
   "metadata": {},
   "outputs": [],
   "source": [
    "q = \"\"\"\n",
    "SELECT *\n",
    "FROM tn\n",
    "JOIN imdb\n",
    "    USING('title','year')\n",
    "JOIN producers\n",
    "USING(movie_id)\n",
    "WHERE producer in ('Andrew Macdonald',\n",
    " 'Mark Johnson',\n",
    " 'Michael Costigan',\n",
    " 'Ridley Scott',\n",
    " 'George Furla',\n",
    " 'René Besson',\n",
    " 'Randall Emmett',\n",
    " 'Lars Knudsen',\n",
    " 'Celine Rattray',\n",
    " 'Cassian Elwes');\n",
    "\n",
    "\"\"\"\n",
    "bot = pd.read_sql(q, conn).drop_duplicates(['movie_id'])"
   ]
  },
  {
   "cell_type": "code",
   "execution_count": null,
   "metadata": {},
   "outputs": [],
   "source": [
    "q = \"\"\"\n",
    "SELECT *\n",
    "FROM tn\n",
    "JOIN imdb\n",
    "    USING('title','year')\n",
    "JOIN producers\n",
    "USING(movie_id)\n",
    "WHERE producer in ('James Wan',\n",
    " 'Peter Safran',\n",
    " 'Janet Healy',\n",
    " 'Andrew Form',\n",
    " 'Brad Fuller',\n",
    " 'Jason Blum',\n",
    " 'Michael Bay',\n",
    " 'Christopher Meledandri',\n",
    " 'Iain Canning',\n",
    " 'Emile Sherman');\n",
    "\n",
    "\"\"\"\n",
    "top = pd.read_sql(q, conn).drop_duplicates(['movie_id'])"
   ]
  },
  {
   "cell_type": "code",
   "execution_count": null,
   "metadata": {},
   "outputs": [],
   "source": []
  },
  {
   "cell_type": "code",
   "execution_count": null,
   "metadata": {},
   "outputs": [],
   "source": [
    "top['budget'].median()"
   ]
  },
  {
   "cell_type": "code",
   "execution_count": null,
   "metadata": {},
   "outputs": [],
   "source": [
    "for i in [top,bot]:\n",
    "    num = i['month'].value_counts(normalize=True)\n",
    "    \n",
    "    print(num)\n",
    "    print(\"\\n\")"
   ]
  },
  {
   "cell_type": "code",
   "execution_count": null,
   "metadata": {
    "scrolled": true
   },
   "outputs": [],
   "source": [
    "bot.columns"
   ]
  },
  {
   "cell_type": "code",
   "execution_count": null,
   "metadata": {},
   "outputs": [],
   "source": [
    "q = \"\"\"\n",
    "SELECT *\n",
    "FROM opus\n",
    "JOIN imdb\n",
    "    USING('title','year')\n",
    "JOIN producers\n",
    "USING(movie_id)\n",
    "WHERE producer in ('Andrew Macdonald',\n",
    " 'Mark Johnson',\n",
    " 'Michael Costigan',\n",
    " 'Ridley Scott',\n",
    " 'George Furla',\n",
    " 'René Besson',\n",
    " 'Randall Emmett',\n",
    " 'Lars Knudsen',\n",
    " 'Celine Rattray',\n",
    " 'Cassian Elwes');\n",
    "\n",
    "\"\"\"\n",
    "test = pd.read_sql(q, conn).drop_duplicates(['movie_id'])\n",
    "len(test)"
   ]
  },
  {
   "cell_type": "code",
   "execution_count": null,
   "metadata": {},
   "outputs": [],
   "source": []
  }
 ],
 "metadata": {
  "kernelspec": {
   "display_name": "Python (learn-env)",
   "language": "python",
   "name": "learn-env"
  },
  "language_info": {
   "codemirror_mode": {
    "name": "ipython",
    "version": 3
   },
   "file_extension": ".py",
   "mimetype": "text/x-python",
   "name": "python",
   "nbconvert_exporter": "python",
   "pygments_lexer": "ipython3",
   "version": "3.8.5"
  }
 },
 "nbformat": 4,
 "nbformat_minor": 4
}
