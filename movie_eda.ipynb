{
 "cells": [
  {
   "cell_type": "markdown",
   "metadata": {},
   "source": [
    "# Setup\n",
    "\n",
    "Notes: What categories do I want to compare?\n",
    "Title, Year, Genres, Studios, Run Time, Streaming vs Theatre, Net income"
   ]
  },
  {
   "cell_type": "code",
   "execution_count": 337,
   "metadata": {},
   "outputs": [],
   "source": [
    "import pandas as pd\n",
    "import requests\n",
    "import json\n",
    "import sqlite3\n",
    "import numpy as np\n",
    "from sqlalchemy import create_engine\n",
    "from fuzzywuzzy import fuzz\n",
    "from fuzzywuzzy import process\n",
    "import difflib\n",
    "import string"
   ]
  },
  {
   "cell_type": "code",
   "execution_count": 3,
   "metadata": {},
   "outputs": [],
   "source": [
    "# Making the locations of all of the data files\n",
    "folder = '/Users/ronlodetti/Documents/Flatiron/1_phase/Project_1/Movie_Analysis_Project/data/imported/'\n",
    "bom_loc = folder + 'bom.movie_gross.csv.gz'\n",
    "imdb_loc = folder + 'im.db'\n",
    "opus_loc = folder + 'MovieData.csv'"
   ]
  },
  {
   "cell_type": "code",
   "execution_count": 359,
   "metadata": {},
   "outputs": [],
   "source": [
    "# Box Office Mojo\n",
    "bom = pd.read_csv(bom_loc)\n",
    "bom['foreign_gross'] = bom['foreign_gross'].str.replace(',','').astype(float)\n",
    "bom['title'] = clean_titles(bom['title'])"
   ]
  },
  {
   "cell_type": "code",
   "execution_count": 357,
   "metadata": {},
   "outputs": [],
   "source": [
    "def clean_titles(series):\n",
    "    series = series.str.strip()\n",
    "    series = series.str.translate(str.maketrans('', '', string.punctuation))\n",
    "    series = series.str.lower()\n",
    "    return series"
   ]
  },
  {
   "cell_type": "code",
   "execution_count": 344,
   "metadata": {},
   "outputs": [
    {
     "data": {
      "text/plain": [
       "0                                       Toy Story 3\n",
       "1                        Alice in Wonderland (2010)\n",
       "2       Harry Potter and the Deathly Hallows Part 1\n",
       "3                                         Inception\n",
       "4                               Shrek Forever After\n",
       "                           ...                     \n",
       "3382                                      The Quake\n",
       "3383                    Edward II (2018 re-release)\n",
       "3384                                       El Pacto\n",
       "3385                                       The Swan\n",
       "3386                              An Actor Prepares\n",
       "Name: title, Length: 3387, dtype: object"
      ]
     },
     "execution_count": 344,
     "metadata": {},
     "output_type": "execute_result"
    }
   ],
   "source": [
    "test.str.strip()"
   ]
  },
  {
   "cell_type": "code",
   "execution_count": 360,
   "metadata": {},
   "outputs": [],
   "source": [
    "# Opus Data\n",
    "opus = pd.read_csv(opus_loc)\n",
    "opus.drop('movie_odid',axis=1,inplace=True)\n",
    "opus = opus.rename(columns={'movie_name':'title','production_year':'year'})\n",
    "opus['title'] = clean_titles(opus['title'])"
   ]
  },
  {
   "cell_type": "code",
   "execution_count": 361,
   "metadata": {},
   "outputs": [],
   "source": [
    "# IMDB\n",
    "conn = sqlite3.connect(imdb_loc)\n",
    "q = \"\"\"\n",
    "SELECT DISTINCT(ma.movie_id) AS id,\n",
    "    ma.title,\n",
    "    mb.start_year AS year\n",
    "FROM movie_basics AS mb\n",
    "JOIN movie_akas AS ma\n",
    "    USING(movie_id)\n",
    "WHERE language = 'en';\n",
    "\n",
    "\"\"\"\n",
    "imdb = pd.read_sql(q, conn)\n",
    "imdb['title'] = clean_titles(imdb['title'])"
   ]
  },
  {
   "cell_type": "markdown",
   "metadata": {},
   "source": [
    "# Merge!"
   ]
  },
  {
   "cell_type": "code",
   "execution_count": 366,
   "metadata": {},
   "outputs": [
    {
     "data": {
      "text/plain": [
       "21403"
      ]
     },
     "execution_count": 366,
     "metadata": {},
     "output_type": "execute_result"
    }
   ],
   "source": [
    "#len(bom) 3,387\n",
    "#len(opus) 1,936\n",
    "#len(imdb) 21,403\n"
   ]
  },
  {
   "cell_type": "code",
   "execution_count": 102,
   "metadata": {},
   "outputs": [
    {
     "name": "stdout",
     "output_type": "stream",
     "text": [
      "<class 'pandas.core.frame.DataFrame'>\n",
      "Int64Index: 1936 entries, 0 to 1935\n",
      "Data columns (total 17 columns):\n",
      " #   Column                    Non-Null Count  Dtype  \n",
      "---  ------                    --------------  -----  \n",
      " 0   movie_name                1936 non-null   object \n",
      " 1   production_year           1936 non-null   int64  \n",
      " 2   production_budget         1936 non-null   int64  \n",
      " 3   domestic_box_office       1936 non-null   int64  \n",
      " 4   international_box_office  1936 non-null   int64  \n",
      " 5   rating                    1913 non-null   object \n",
      " 6   creative_type             1923 non-null   object \n",
      " 7   source                    1915 non-null   object \n",
      " 8   production_method         1925 non-null   object \n",
      " 9   genre                     1926 non-null   object \n",
      " 10  sequel                    1934 non-null   float64\n",
      " 11  running_time              1822 non-null   float64\n",
      " 12  title                     501 non-null    object \n",
      " 13  studio                    501 non-null    object \n",
      " 14  domestic_gross            500 non-null    float64\n",
      " 15  foreign_gross             480 non-null    float64\n",
      " 16  year                      501 non-null    float64\n",
      "dtypes: float64(5), int64(4), object(8)\n",
      "memory usage: 272.2+ KB\n"
     ]
    }
   ],
   "source": [
    "df = pd.merge(opus, bom,  how='left', left_on=['movie_name','production_year'], right_on = ['title','year'])"
   ]
  },
  {
   "cell_type": "code",
   "execution_count": null,
   "metadata": {},
   "outputs": [],
   "source": []
  },
  {
   "cell_type": "code",
   "execution_count": null,
   "metadata": {},
   "outputs": [],
   "source": []
  },
  {
   "cell_type": "code",
   "execution_count": null,
   "metadata": {},
   "outputs": [],
   "source": []
  },
  {
   "cell_type": "code",
   "execution_count": null,
   "metadata": {},
   "outputs": [],
   "source": []
  },
  {
   "cell_type": "code",
   "execution_count": null,
   "metadata": {},
   "outputs": [],
   "source": []
  },
  {
   "cell_type": "code",
   "execution_count": null,
   "metadata": {},
   "outputs": [],
   "source": []
  },
  {
   "cell_type": "code",
   "execution_count": null,
   "metadata": {},
   "outputs": [],
   "source": []
  },
  {
   "cell_type": "code",
   "execution_count": null,
   "metadata": {},
   "outputs": [],
   "source": []
  },
  {
   "cell_type": "code",
   "execution_count": null,
   "metadata": {},
   "outputs": [],
   "source": []
  },
  {
   "cell_type": "markdown",
   "metadata": {},
   "source": [
    "# Creating a cleaned Database"
   ]
  },
  {
   "cell_type": "code",
   "execution_count": 373,
   "metadata": {},
   "outputs": [
    {
     "name": "stdout",
     "output_type": "stream",
     "text": [
      "<class 'pandas.core.frame.DataFrame'>\n",
      "RangeIndex: 1936 entries, 0 to 1935\n",
      "Data columns (total 12 columns):\n",
      " #   Column                    Non-Null Count  Dtype  \n",
      "---  ------                    --------------  -----  \n",
      " 0   title                     1936 non-null   object \n",
      " 1   year                      1936 non-null   int64  \n",
      " 2   production_budget         1936 non-null   int64  \n",
      " 3   domestic_box_office       1936 non-null   int64  \n",
      " 4   international_box_office  1936 non-null   int64  \n",
      " 5   rating                    1913 non-null   object \n",
      " 6   creative_type             1923 non-null   object \n",
      " 7   source                    1915 non-null   object \n",
      " 8   production_method         1925 non-null   object \n",
      " 9   genre                     1926 non-null   object \n",
      " 10  sequel                    1934 non-null   float64\n",
      " 11  running_time              1822 non-null   float64\n",
      "dtypes: float64(2), int64(4), object(6)\n",
      "memory usage: 181.6+ KB\n"
     ]
    }
   ],
   "source": [
    "opus.info()"
   ]
  },
  {
   "cell_type": "code",
   "execution_count": 374,
   "metadata": {},
   "outputs": [],
   "source": [
    "#creating a cleaned database\n",
    "conn = sqlite3.connect('movie_data.db')\n",
    "c = conn.cursor()"
   ]
  },
  {
   "cell_type": "code",
   "execution_count": 375,
   "metadata": {},
   "outputs": [
    {
     "data": {
      "text/plain": [
       "<sqlite3.Cursor at 0x7f95b61e9c00>"
      ]
     },
     "execution_count": 375,
     "metadata": {},
     "output_type": "execute_result"
    }
   ],
   "source": [
    "#\n",
    "c.execute('''\n",
    "CREATE TABLE \n",
    "    opus (\n",
    "        title text,\n",
    "        year int,\n",
    "        production_budget int,\n",
    "        domestic_box_office int,\n",
    "        international_box_office int,\n",
    "        rating text,\n",
    "        creative_type text,\n",
    "        source text,\n",
    "        production_method text,\n",
    "        genre text,\n",
    "        sequel int,\n",
    "        running_time int)\n",
    "''')\n",
    "opus.to_sql('opus', conn, if_exists='append', index = False)"
   ]
  },
  {
   "cell_type": "code",
   "execution_count": 380,
   "metadata": {},
   "outputs": [],
   "source": [
    "c.execute('''\n",
    "CREATE TABLE \n",
    "    opus (\n",
    "        title text,\n",
    "        year int,\n",
    "        production_budget int,\n",
    "        domestic_box_office int,\n",
    "        international_box_office int,\n",
    "        rating text,\n",
    "        creative_type text,\n",
    "        source text,\n",
    "        production_method text,\n",
    "        genre text,\n",
    "        sequel int,\n",
    "        running_time int)\n",
    "''')\n",
    "bom.to_sql('bom', conn, if_exists='append', index = False)"
   ]
  },
  {
   "cell_type": "code",
   "execution_count": 437,
   "metadata": {},
   "outputs": [
    {
     "data": {
      "text/html": [
       "<div>\n",
       "<style scoped>\n",
       "    .dataframe tbody tr th:only-of-type {\n",
       "        vertical-align: middle;\n",
       "    }\n",
       "\n",
       "    .dataframe tbody tr th {\n",
       "        vertical-align: top;\n",
       "    }\n",
       "\n",
       "    .dataframe thead th {\n",
       "        text-align: right;\n",
       "    }\n",
       "</style>\n",
       "<table border=\"1\" class=\"dataframe\">\n",
       "  <thead>\n",
       "    <tr style=\"text-align: right;\">\n",
       "      <th></th>\n",
       "      <th>avg_profit</th>\n",
       "      <th>num_movies</th>\n",
       "      <th>genre</th>\n",
       "    </tr>\n",
       "  </thead>\n",
       "  <tbody>\n",
       "    <tr>\n",
       "      <th>0</th>\n",
       "      <td>2.473835e+08</td>\n",
       "      <td>25</td>\n",
       "      <td>Musical</td>\n",
       "    </tr>\n",
       "    <tr>\n",
       "      <th>1</th>\n",
       "      <td>2.096487e+08</td>\n",
       "      <td>334</td>\n",
       "      <td>Adventure</td>\n",
       "    </tr>\n",
       "    <tr>\n",
       "      <th>2</th>\n",
       "      <td>1.919503e+08</td>\n",
       "      <td>311</td>\n",
       "      <td>Action</td>\n",
       "    </tr>\n",
       "    <tr>\n",
       "      <th>3</th>\n",
       "      <td>7.042893e+07</td>\n",
       "      <td>104</td>\n",
       "      <td>Horror</td>\n",
       "    </tr>\n",
       "    <tr>\n",
       "      <th>4</th>\n",
       "      <td>6.773846e+07</td>\n",
       "      <td>82</td>\n",
       "      <td>Romantic Comedy</td>\n",
       "    </tr>\n",
       "    <tr>\n",
       "      <th>5</th>\n",
       "      <td>6.615961e+07</td>\n",
       "      <td>231</td>\n",
       "      <td>Thriller/Suspense</td>\n",
       "    </tr>\n",
       "    <tr>\n",
       "      <th>6</th>\n",
       "      <td>5.579564e+07</td>\n",
       "      <td>318</td>\n",
       "      <td>Comedy</td>\n",
       "    </tr>\n",
       "    <tr>\n",
       "      <th>7</th>\n",
       "      <td>5.147869e+07</td>\n",
       "      <td>5</td>\n",
       "      <td>Documentary</td>\n",
       "    </tr>\n",
       "    <tr>\n",
       "      <th>8</th>\n",
       "      <td>4.843604e+07</td>\n",
       "      <td>24</td>\n",
       "      <td>Black Comedy</td>\n",
       "    </tr>\n",
       "    <tr>\n",
       "      <th>9</th>\n",
       "      <td>4.668111e+07</td>\n",
       "      <td>15</td>\n",
       "      <td>Western</td>\n",
       "    </tr>\n",
       "    <tr>\n",
       "      <th>10</th>\n",
       "      <td>4.581031e+07</td>\n",
       "      <td>471</td>\n",
       "      <td>Drama</td>\n",
       "    </tr>\n",
       "    <tr>\n",
       "      <th>11</th>\n",
       "      <td>3.018678e+07</td>\n",
       "      <td>6</td>\n",
       "      <td>Concert/Performance</td>\n",
       "    </tr>\n",
       "    <tr>\n",
       "      <th>12</th>\n",
       "      <td>2.704815e+06</td>\n",
       "      <td>10</td>\n",
       "      <td>None</td>\n",
       "    </tr>\n",
       "  </tbody>\n",
       "</table>\n",
       "</div>"
      ],
      "text/plain": [
       "      avg_profit  num_movies                genre\n",
       "0   2.473835e+08          25              Musical\n",
       "1   2.096487e+08         334            Adventure\n",
       "2   1.919503e+08         311               Action\n",
       "3   7.042893e+07         104               Horror\n",
       "4   6.773846e+07          82      Romantic Comedy\n",
       "5   6.615961e+07         231    Thriller/Suspense\n",
       "6   5.579564e+07         318               Comedy\n",
       "7   5.147869e+07           5          Documentary\n",
       "8   4.843604e+07          24         Black Comedy\n",
       "9   4.668111e+07          15              Western\n",
       "10  4.581031e+07         471                Drama\n",
       "11  3.018678e+07           6  Concert/Performance\n",
       "12  2.704815e+06          10                 None"
      ]
     },
     "execution_count": 437,
     "metadata": {},
     "output_type": "execute_result"
    }
   ],
   "source": [
    "q = \"\"\"\n",
    "SELECT \n",
    "    AVG(domestic_box_office+international_box_office-production_budget) AS avg_profit,\n",
    "    COUNT(*) AS num_movies,\n",
    "    genre\n",
    "FROM opus\n",
    "GROUP BY genre\n",
    "ORDER BY avg_profit DESC;\n",
    "\n",
    "\"\"\"\n",
    "pd.read_sql(q, conn)"
   ]
  },
  {
   "cell_type": "code",
   "execution_count": 406,
   "metadata": {},
   "outputs": [],
   "source": [
    "#top_studio - top studio by average profit P/DW, BV, GrtIndia\n",
    "avg_profit_sequel"
   ]
  },
  {
   "cell_type": "code",
   "execution_count": 427,
   "metadata": {},
   "outputs": [
    {
     "data": {
      "text/html": [
       "<div>\n",
       "<style scoped>\n",
       "    .dataframe tbody tr th:only-of-type {\n",
       "        vertical-align: middle;\n",
       "    }\n",
       "\n",
       "    .dataframe tbody tr th {\n",
       "        vertical-align: top;\n",
       "    }\n",
       "\n",
       "    .dataframe thead th {\n",
       "        text-align: right;\n",
       "    }\n",
       "</style>\n",
       "<table border=\"1\" class=\"dataframe\">\n",
       "  <thead>\n",
       "    <tr style=\"text-align: right;\">\n",
       "      <th></th>\n",
       "      <th>COUNT(*)</th>\n",
       "    </tr>\n",
       "  </thead>\n",
       "  <tbody>\n",
       "    <tr>\n",
       "      <th>0</th>\n",
       "      <td>75</td>\n",
       "    </tr>\n",
       "  </tbody>\n",
       "</table>\n",
       "</div>"
      ],
      "text/plain": [
       "   COUNT(*)\n",
       "0        75"
      ]
     },
     "execution_count": 427,
     "metadata": {},
     "output_type": "execute_result"
    }
   ],
   "source": [
    "q = \"\"\"\n",
    "SELECT \n",
    "    COUNT(*)\n",
    "FROM opus AS o\n",
    "JOIN bom as b\n",
    "    USING(title)\n",
    ";\n",
    "\n",
    "\"\"\"\n",
    "pd.read_sql(q, conn)"
   ]
  },
  {
   "cell_type": "code",
   "execution_count": 425,
   "metadata": {},
   "outputs": [
    {
     "name": "stdout",
     "output_type": "stream",
     "text": [
      "rating\n",
      "PG       37\n",
      "PG-13    30\n",
      "G         7\n",
      "R         1\n",
      "Name: rating, dtype: int64\n",
      "\n",
      "\n",
      "creative_type\n",
      "Kids Fiction            22\n",
      "Super Hero              14\n",
      "Fantasy                 12\n",
      "Contemporary Fiction     9\n",
      "Science Fiction          8\n",
      "Dramatization            6\n",
      "Historical Fiction       3\n",
      "Factual                  1\n",
      "Name: creative_type, dtype: int64\n",
      "\n",
      "\n",
      "source\n",
      "Original Screenplay                    22\n",
      "Based on Fiction Book/Short Story      14\n",
      "Based on Comic/Graphic Novel           13\n",
      "Based on Real Life Events               6\n",
      "Based on Folk Tale/Legend/Fairytale     5\n",
      "Spin-Off                                4\n",
      "Based on TV                             3\n",
      "Based on Theme Park Ride                2\n",
      "Based on Short Film                     2\n",
      "Remake                                  1\n",
      "Based on Play                           1\n",
      "Based on Factual Book/Article           1\n",
      "Based on Game                           1\n",
      "Name: source, dtype: int64\n",
      "\n",
      "\n",
      "production_method\n",
      "Live Action              44\n",
      "Digital Animation        19\n",
      "Animation/Live Action    10\n",
      "Hand Animation            1\n",
      "Stop-Motion Animation     1\n",
      "Name: production_method, dtype: int64\n",
      "\n",
      "\n",
      "genre\n",
      "Adventure            34\n",
      "Action               15\n",
      "Drama                12\n",
      "Musical               6\n",
      "Comedy                3\n",
      "Thriller/Suspense     2\n",
      "Documentary           1\n",
      "Western               1\n",
      "Romantic Comedy       1\n",
      "Name: genre, dtype: int64\n",
      "\n",
      "\n",
      "sequel\n",
      "0    51\n",
      "1    24\n",
      "Name: sequel, dtype: int64\n",
      "\n",
      "\n"
     ]
    }
   ],
   "source": [
    "#Type of movies BV studios made\n",
    "for i in df:\n",
    "    print(i)\n",
    "    print(df[i].value_counts())\n",
    "    print('\\n')"
   ]
  },
  {
   "cell_type": "code",
   "execution_count": 362,
   "metadata": {},
   "outputs": [
    {
     "name": "stdout",
     "output_type": "stream",
     "text": [
      "jackass 3d  ------->  jackass 3\n",
      "step up 3d  ------->  step up 3\n",
      "date night  ------->  date  night\n",
      "waste land  ------->  wasteland\n",
      "mission impossible  ghost protocol  ------->  mission impossible 4  ghost protocol\n",
      "the girl with the dragon tattoo 2011  ------->  the girl with the dragon tattoo\n",
      "spy kids all the time in the world  ------->  spy kids 4d all the time in the world\n",
      "sex and zen 3d extreme ecstasy  ------->  3d sex and zen extreme ecstasy\n",
      "the ledge  ------->  the pledge\n",
      "the black power mix tape 19671975  ------->  the black power mixtape 19671975\n",
      "ice age continental drift  ------->  ice age 4 continental drift\n",
      "the counselor  ------->  the counsellor\n",
      "one direction this is us  ------->  one direction  this is us\n",
      "dallas buyers club  ------->  the dallas buyers club\n",
      "tiny times 2  ------->  tiny times 20\n",
      "admission  ------->  admissions\n",
      "puella magi madoka magica the movie rebellion  ------->  puella magi madoka magica the movie part iii rebellion\n",
      "mission impossible  rogue nation  ------->  mission impossible 5  rogue nation\n",
      "fifty shades of grey  ------->  fifty shades of gray\n",
      "mortdecai  ------->  mordecai\n",
      "ricki and the flash  ------->  ricki  the flash\n",
      "the secret in their eyes 2015  ------->  the secret in their eyes\n",
      "victor frankenstein  ------->  viktor frankenstein\n",
      "the d train  ------->  the dtrain\n",
      "the chronicles of evil  ------->  chronicles of evil\n",
      "the cut  ------->  the cult\n",
      "the light between oceans  ------->  the light between the oceans\n",
      "whiskey tango foxtrot  ------->  whisky tango foxtrot\n",
      "kapoor  sons  since 1921  ------->  kapoor  sons since 1921\n",
      "a street cat named bob  ------->  a streetcat named bob\n",
      "the other side  ------->  on the other side\n",
      "thank you for your service 2017  ------->  thank you for your service\n",
      "pokemon the movie i choose you  ------->  pokémon the movie i choose you\n",
      "brotherhood of blades 2 the infernal battlefield  ------->  brotherhood of blades ii the infernal battlefield\n",
      "mamma mia here we go again  ------->  mama mia here we go again\n",
      "a simple favor  ------->  a simple favour\n",
      "sicario day of the soldado  ------->  sicario 2 day of the soldado\n",
      "my hero academia two heroes  ------->  my hero academia the two heroes\n",
      "pokemon the movie the power of us  ------->  pokémon the movie the power of us\n",
      "luis  the aliens  ------->  luis and the aliens\n",
      "tag along the devil fish  ------->  the tagalong the devil fish\n"
     ]
    },
    {
     "data": {
      "text/plain": [
       "41"
      ]
     },
     "execution_count": 362,
     "metadata": {},
     "output_type": "execute_result"
    }
   ],
   "source": [
    "Replaced = 0\n",
    "for i in range(0,len(bom)):\n",
    "    key = bom['title'][i]\n",
    "    value = difflib.get_close_matches(key, imdb['title'], n=1,cutoff=0.9)\n",
    "    try:\n",
    "        value = value[0]\n",
    "        index = imdb[imdb['title']==value].index[0]\n",
    "        if (key != value) & (bom['year'][i] == imdb['year'][index]):\n",
    "            bom['title'].replace(key, value,inplace=True)\n",
    "            print(f'{key}  ------->  {value}')\n",
    "            Replaced +=1\n",
    "        else:\n",
    "            continue\n",
    "    except:\n",
    "        continue\n",
    "Replaced"
   ]
  },
  {
   "cell_type": "code",
   "execution_count": 363,
   "metadata": {},
   "outputs": [
    {
     "name": "stdout",
     "output_type": "stream",
     "text": [
      "jackass 3d  ------->  jackass 3\n",
      "step up 3d  ------->  step up 3\n",
      "date night  ------->  date  night\n",
      "wall street 2 money never sleeps  ------->  wall street money never sleeps\n",
      "spy kids all the time in the world  ------->  spy kids 4d all the time in the world\n",
      "harry potter and the deathly hallows part ii  ------->  harry potter and the deathly hallows part 2\n",
      "mission impossible—ghost protocol  ------->  mission impossible 4  ghost protocol\n",
      "ernest et celestine  ------->  ernest  celestine\n",
      "ice age continental drift  ------->  ice age 4 continental drift\n",
      "one direction this is us  ------->  one direction  this is us\n",
      "the counselor  ------->  the counsellor\n",
      "plastic  ------->  platic\n",
      "ricki and the flash  ------->  ricki  the flash\n",
      "secret in their eyes  ------->  the secret in their eyes\n",
      "queen of the desert  ------->  the queen of the desert\n",
      "yip man 3  ------->  ip man 3\n",
      "mortdecai  ------->  mordecai\n",
      "mission impossible—rogue nation  ------->  mission impossible 5  rogue nation\n",
      "whiskey tango foxtrot  ------->  whisky tango foxtrot\n",
      "daddy’s home 2  ------->  daddys home 2\n",
      "spiderman into the spiderverse 3d  ------->  spiderman into the spiderverse\n",
      "mission impossible—fallout  ------->  mission impossible  fallout\n"
     ]
    },
    {
     "data": {
      "text/plain": [
       "22"
      ]
     },
     "execution_count": 363,
     "metadata": {},
     "output_type": "execute_result"
    }
   ],
   "source": [
    "Replaced = 0\n",
    "for i in range(0,len(opus)):\n",
    "    key = opus['title'][i]\n",
    "    value = difflib.get_close_matches(key, imdb['title'], n=1,cutoff=0.9)\n",
    "    try:\n",
    "        value = value[0]\n",
    "        index = imdb[imdb['title']==value].index[0]\n",
    "        if (key != value) & (opus['year'][i] == imdb['year'][index]):\n",
    "            opus['title'].replace(key, value,inplace=True)\n",
    "            print(f'{key}  ------->  {value}')\n",
    "            Replaced +=1\n",
    "        else:\n",
    "            continue\n",
    "    except:\n",
    "        continue\n",
    "Replaced"
   ]
  }
 ],
 "metadata": {
  "kernelspec": {
   "display_name": "Python (learn-env)",
   "language": "python",
   "name": "learn-env"
  },
  "language_info": {
   "codemirror_mode": {
    "name": "ipython",
    "version": 3
   },
   "file_extension": ".py",
   "mimetype": "text/x-python",
   "name": "python",
   "nbconvert_exporter": "python",
   "pygments_lexer": "ipython3",
   "version": "3.8.5"
  }
 },
 "nbformat": 4,
 "nbformat_minor": 4
}
