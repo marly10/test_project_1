{
 "cells": [
  {
   "cell_type": "markdown",
   "metadata": {},
   "source": [
    "# Movie Analysis for Microsoft Studios\n",
    "***\n",
    "\n",
    "**Author:** Ronald Lodetti Jr.\n"
   ]
  },
  {
   "cell_type": "markdown",
   "metadata": {},
   "source": [
    "<img src=\"./images/strip2.jpg\">"
   ]
  },
  {
   "cell_type": "markdown",
   "metadata": {},
   "source": [
    "## Overview\n",
    "Microsoft would like to create a movie studio, but needs to better understand the movie landscape to help determine which kind of movies to produces. Analyzing trends of successful movie producers using data from The Numbers and IMDb shows patterns with regards to movie length, production budget, and associated genres. Microsoft can use this information to improve decision-making when greenlighting movie projects. \n"
   ]
  },
  {
   "cell_type": "markdown",
   "metadata": {},
   "source": [
    "## Business Problem\n",
    "***\n",
    "<img src=\"./images/seating.jpg\">\n",
    "\n",
    "As a new competitor in the field of movie production, Microsoft does not have a history to inform business decisions. They need analysis of current trends to help inform their first steps.\n"
   ]
  },
  {
   "cell_type": "markdown",
   "metadata": {},
   "source": [
    "## Data\n",
    "The data used in this project has come from <a href=\"https://www.the-numbers.com/\">The Numbers</a> and <a href=\"https://www.imdb.com/\">IMDb</a>. These data sets were compiled by The Flatiron School to be used in this project. \n",
    "\n",
    "The The Numbers dataset includes the finances a sampling of movies about 5700 movies ranging from 1915 to 2020. This dataset will be used to calculate the ROI for each movie.\n",
    "\n",
    "The IMDb dataset comes from the IMDb database. This table was created by merging the movie_basics, persons, and principals tables, filtering the merged rows for persons whose job is a producer. This dataset includes information about over 67,000 movies and 64,000 producers ranging from 2010 to 2021. The genre dataset includes up to three genres associated with each movie from a list of 27 genres."
   ]
  },
  {
   "cell_type": "markdown",
   "metadata": {},
   "source": [
    "## Methods"
   ]
  },
  {
   "cell_type": "markdown",
   "metadata": {},
   "source": [
    "This project uses descriptive analysis, including a comparison of two groups of movies to derive insights. \n",
    "\n",
    "I began with cleaning the the numbers and IMDb to be merged into one dataframe. I then calculated the ROI and found the top and bottom five producers, ranked by median ROI of their movies. \n",
    "\n",
    "Once I had my list of producers, I compared the movies they made to look for any patterns.  I chose budget, movie length, and most frequently occurring genres. Comparing the movies from high and low ROI producers and identifying trends will provide Microsoft insight into what type of movies they should produce. "
   ]
  },
  {
   "cell_type": "markdown",
   "metadata": {},
   "source": [
    "## Results\n",
    "***"
   ]
  },
  {
   "cell_type": "markdown",
   "metadata": {},
   "source": [
    "### Producers & Movie Length\n",
    "Movies from producers with high ROI tended to have slightly shorter movies on average. A box plot has the advantage of showing the distribution of the data interest of just the measure of center. I excluded any outliers (1.5 times the IQR away from Q1 and Q3) to improve the visual. Excluding outliers also helps Microsoft to make business decisions based on what is most likely.\n",
    "\n",
    "![runtime](./images/runtime_viz.jpg)"
   ]
  },
  {
   "cell_type": "markdown",
   "metadata": {},
   "source": [
    "### Producers & Production Budget\n",
    "This graph shows the stark difference in production budgets, with all of the movies from high ROI producers having a lower budget than 75% of the movies from low ROI producers (excluding outliers). The movie budgets for the high ROI producers are also much more consistent than movies from low ROI producers.\n",
    "\n",
    "![budgets](./images/budgets_viz.jpg)"
   ]
  },
  {
   "cell_type": "markdown",
   "metadata": {},
   "source": [
    "### Producers & Genres\n",
    "Initially, I looked at the most common occurring genre in each group. Then I decided to find the largest differences of frequency rate between the two groups. Displaying the differences between the groups makes it more clear which genres Microsoft should focus on or avoid. Lastly, I decided to display only the frequency of the movies from the High ROI producers for simplicity. \n",
    "\n",
    "Horror, thriller, and mystery genres occurred most often in the high ROI producers dataset.\n",
    "\n",
    "![genres](./images/genres_viz.jpg)"
   ]
  },
  {
   "cell_type": "markdown",
   "metadata": {},
   "source": [
    "## Conclusions"
   ]
  },
  {
   "cell_type": "markdown",
   "metadata": {},
   "source": [
    "This analysis leads to three recommendations:\n",
    "- **Produce movies that are between 90 - 110 minutes.** The data shows that successful producers make movies slightly shorter than less successful producers. \n",
    "- **Keep production budgets low.** Producing movies for a cheaper price would allow Microsoft to make more movies, minimize the cost of producing unsuccessful movies, and maximizing the ROI for successful movies. \n",
    "- **Emphasize production of horror, thriller, and mystery movies.** Keeping these genres in mind when producing movies matches the market demand for movies and would help maximize ROI."
   ]
  },
  {
   "cell_type": "markdown",
   "metadata": {},
   "source": [
    "### Limitations\n",
    "- The data only includes movies through 2019. This doesn't account for movie trends in the last three years. \n",
    "- Due to a lack of foreign key in either data set to merge on, it is possible we excluded some movies which were in both datasets. \n",
    "- Analysis was limited by the size of the dataset. Increasing the size could produce more representative results.  \n"
   ]
  },
  {
   "cell_type": "markdown",
   "metadata": {},
   "source": [
    "### Next Steps\n",
    "Further analysis could help improve decision making and success of Microsoft Movie Studios:\n",
    "- **Study success by studio** More data is needed to categorize movies by movie studio. Then we could compare and contrast patterns between successful and not so successful movie studios. \n",
    "- **Analyze current data** The pandemic has had a notable affect on box office success. More analysis of recent data is needed to make informed decisions. \n",
    "- **Streaming service** Analyzing box office is only a piece of movie success these days. Analysis about profitability of streaming movies and/or creating one's own streaming service would keep Microsoft up to date with competitors. "
   ]
  },
  {
   "cell_type": "markdown",
   "metadata": {},
   "source": [
    "## For More Information\n",
    "\n",
    "See the full analysis in the [Jupyter Notebook](./microsoft_movie_analysis.ipynb) or review this [presentation](./Microsoft_Movie_Presentation.pdf).\n",
    "\n",
    "For additional info, contact Ron Lodetti at [ron.lodetti@gmail.com](mailto:ron.lodetti@gmail.com)"
   ]
  },
  {
   "cell_type": "markdown",
   "metadata": {},
   "source": [
    "## Repository Structure\n",
    "\n",
    "```\n",
    "├── code\n",
    "│   ├── __init__.py\n",
    "│   ├── data_prep.py\n",
    "│   ├── visualizations.py\n",
    "│   └── movie_eda.ipynb\n",
    "├── data\n",
    "├── images\n",
    "├── README.md\n",
    "├── requirements.txt\n",
    "├── Microsoft_Movie_Presentation.pdf\n",
    "└── microsoft_movie_analysis.ipynb\n",
    "\n",
    "\n",
    "```"
   ]
  }
 ],
 "metadata": {
  "kernelspec": {
   "display_name": "Python (learn-env)",
   "language": "python",
   "name": "learn-env"
  },
  "language_info": {
   "codemirror_mode": {
    "name": "ipython",
    "version": 3
   },
   "file_extension": ".py",
   "mimetype": "text/x-python",
   "name": "python",
   "nbconvert_exporter": "python",
   "pygments_lexer": "ipython3",
   "version": "3.8.5"
  }
 },
 "nbformat": 4,
 "nbformat_minor": 4
}
