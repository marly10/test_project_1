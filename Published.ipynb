{
 "cells": [
  {
   "cell_type": "markdown",
   "metadata": {},
   "source": [
    "# Movie Analysis for Microsoft Studios\n",
    "\n",
    "**Author:** Ronald Lodetti Jr.\n",
    "***"
   ]
  },
  {
   "cell_type": "markdown",
   "metadata": {},
   "source": [
    "<img src=\"./images/strip2.jpg\">"
   ]
  },
  {
   "cell_type": "markdown",
   "metadata": {},
   "source": [
    "## Overview\n",
    "***\n",
    "\n",
    "Microsoft would like to create a movie studio, but needs to better understand the movie landscape to help determine which kind of movies to produces. Analyzing trends of successful movie producers using data from The Numbers and IMDb shows patters with regards to movie length, production budget, and associated genres. Microsoft can use this information to improve decision-making when greenlighting movie projects. \n"
   ]
  },
  {
   "cell_type": "markdown",
   "metadata": {},
   "source": [
    "## Business Problem\n",
    "***\n",
    "<img src=\"./images/seating.jpg\">\n",
    "\n",
    "As a new competitor in the field of movie production, Microsoft does not have a history to inform business decisions. They need analysis of current trends to help inform their first steps.\n"
   ]
  },
  {
   "cell_type": "markdown",
   "metadata": {},
   "source": [
    "## Data Understanding\n",
    "***\n",
    "The data used in this project has come from <a href=\"https://www.the-numbers.com/\">The Numbers</a> and <a href=\"https://www.imdb.com/\">IMDb</a>. These data sets were combiled by The Flatiron School to be used in this project. "
   ]
  },
  {
   "cell_type": "code",
   "execution_count": 1,
   "metadata": {
    "ExecuteTime": {
     "end_time": "2023-04-11T17:56:54.560043Z",
     "start_time": "2023-04-11T17:56:52.893538Z"
    }
   },
   "outputs": [],
   "source": [
    "import pandas as pd\n",
    "import sqlite3\n",
    "import matplotlib.pyplot as plt\n",
    "import seaborn as sns\n",
    "%matplotlib inline"
   ]
  },
  {
   "cell_type": "code",
   "execution_count": 2,
   "metadata": {
    "ExecuteTime": {
     "end_time": "2023-04-11T17:56:57.405471Z",
     "start_time": "2023-04-11T17:56:55.140501Z"
    }
   },
   "outputs": [],
   "source": [
    "the_numbers = pd.read_csv(\n",
    "    '/Users/ronlodetti/Documents/Flatiron/1_phase/Project_1/Movie_Analysis_Project/data/imported/tn.movie_budgets.csv.gz')\n",
    "conn = sqlite3.connect(\n",
    "    '/Users/ronlodetti/Documents/Flatiron/1_phase/Project_1/Movie_Analysis_Project/data/imported/im.db')\n",
    "q = \"\"\"\n",
    "SELECT \n",
    "    movie_id,\n",
    "    primary_title AS title,\n",
    "    start_year AS year,\n",
    "    runtime_minutes AS runtime,\n",
    "    primary_name AS producer,\n",
    "    genres\n",
    "FROM movie_basics \n",
    "JOIN principals\n",
    "    USING('movie_id')\n",
    "JOIN persons\n",
    "    USING('person_id')\n",
    "WHERE job == 'producer'\n",
    ";\n",
    "\"\"\"\n",
    "imdb = pd.read_sql(q, conn)"
   ]
  },
  {
   "cell_type": "markdown",
   "metadata": {},
   "source": [
    "### The Numbers\n",
    "\n",
    "The The Numbers dataset includes the finances a sampling of movies about 5700 movies ranging from 1915 to 2020. This dataset will be used to calculate the ROI for each movie."
   ]
  },
  {
   "cell_type": "code",
   "execution_count": 3,
   "metadata": {
    "ExecuteTime": {
     "end_time": "2023-04-11T17:57:06.544604Z",
     "start_time": "2023-04-11T17:57:06.520895Z"
    },
    "scrolled": false
   },
   "outputs": [
    {
     "data": {
      "text/html": [
       "<div>\n",
       "<style scoped>\n",
       "    .dataframe tbody tr th:only-of-type {\n",
       "        vertical-align: middle;\n",
       "    }\n",
       "\n",
       "    .dataframe tbody tr th {\n",
       "        vertical-align: top;\n",
       "    }\n",
       "\n",
       "    .dataframe thead th {\n",
       "        text-align: right;\n",
       "    }\n",
       "</style>\n",
       "<table border=\"1\" class=\"dataframe\">\n",
       "  <thead>\n",
       "    <tr style=\"text-align: right;\">\n",
       "      <th></th>\n",
       "      <th>id</th>\n",
       "      <th>release_date</th>\n",
       "      <th>movie</th>\n",
       "      <th>production_budget</th>\n",
       "      <th>domestic_gross</th>\n",
       "      <th>worldwide_gross</th>\n",
       "    </tr>\n",
       "  </thead>\n",
       "  <tbody>\n",
       "    <tr>\n",
       "      <th>0</th>\n",
       "      <td>1</td>\n",
       "      <td>Dec 18, 2009</td>\n",
       "      <td>Avatar</td>\n",
       "      <td>$425,000,000</td>\n",
       "      <td>$760,507,625</td>\n",
       "      <td>$2,776,345,279</td>\n",
       "    </tr>\n",
       "    <tr>\n",
       "      <th>1</th>\n",
       "      <td>2</td>\n",
       "      <td>May 20, 2011</td>\n",
       "      <td>Pirates of the Caribbean: On Stranger Tides</td>\n",
       "      <td>$410,600,000</td>\n",
       "      <td>$241,063,875</td>\n",
       "      <td>$1,045,663,875</td>\n",
       "    </tr>\n",
       "    <tr>\n",
       "      <th>2</th>\n",
       "      <td>3</td>\n",
       "      <td>Jun 7, 2019</td>\n",
       "      <td>Dark Phoenix</td>\n",
       "      <td>$350,000,000</td>\n",
       "      <td>$42,762,350</td>\n",
       "      <td>$149,762,350</td>\n",
       "    </tr>\n",
       "  </tbody>\n",
       "</table>\n",
       "</div>"
      ],
      "text/plain": [
       "   id  release_date                                        movie  \\\n",
       "0   1  Dec 18, 2009                                       Avatar   \n",
       "1   2  May 20, 2011  Pirates of the Caribbean: On Stranger Tides   \n",
       "2   3   Jun 7, 2019                                 Dark Phoenix   \n",
       "\n",
       "  production_budget domestic_gross worldwide_gross  \n",
       "0      $425,000,000   $760,507,625  $2,776,345,279  \n",
       "1      $410,600,000   $241,063,875  $1,045,663,875  \n",
       "2      $350,000,000    $42,762,350    $149,762,350  "
      ]
     },
     "execution_count": 3,
     "metadata": {},
     "output_type": "execute_result"
    }
   ],
   "source": [
    "the_numbers.head(3)"
   ]
  },
  {
   "cell_type": "markdown",
   "metadata": {},
   "source": [
    "### IMDb Data\n",
    "The imdb dataset comes from the imdb database. This table was created by merging the movie_basics, persons, and principals tables, filtering the merged rows for persons whos job is a producer. \n",
    "\n",
    "This dataset includes information about over 67,000 movies and 64,000 producers ranging from 2010 to 2021. The genre dataset includes up to three genres associated with each movie from a list of 27 genres."
   ]
  },
  {
   "cell_type": "code",
   "execution_count": 4,
   "metadata": {
    "ExecuteTime": {
     "end_time": "2023-04-11T17:57:09.150320Z",
     "start_time": "2023-04-11T17:57:09.137667Z"
    }
   },
   "outputs": [
    {
     "data": {
      "text/html": [
       "<div>\n",
       "<style scoped>\n",
       "    .dataframe tbody tr th:only-of-type {\n",
       "        vertical-align: middle;\n",
       "    }\n",
       "\n",
       "    .dataframe tbody tr th {\n",
       "        vertical-align: top;\n",
       "    }\n",
       "\n",
       "    .dataframe thead th {\n",
       "        text-align: right;\n",
       "    }\n",
       "</style>\n",
       "<table border=\"1\" class=\"dataframe\">\n",
       "  <thead>\n",
       "    <tr style=\"text-align: right;\">\n",
       "      <th></th>\n",
       "      <th>movie_id</th>\n",
       "      <th>title</th>\n",
       "      <th>year</th>\n",
       "      <th>runtime</th>\n",
       "      <th>producer</th>\n",
       "      <th>genres</th>\n",
       "    </tr>\n",
       "  </thead>\n",
       "  <tbody>\n",
       "    <tr>\n",
       "      <th>0</th>\n",
       "      <td>tt0111414</td>\n",
       "      <td>A Thin Life</td>\n",
       "      <td>2018</td>\n",
       "      <td>75.0</td>\n",
       "      <td>Barry Porter-Robinson</td>\n",
       "      <td>Comedy</td>\n",
       "    </tr>\n",
       "    <tr>\n",
       "      <th>1</th>\n",
       "      <td>tt0323808</td>\n",
       "      <td>The Wicker Tree</td>\n",
       "      <td>2011</td>\n",
       "      <td>96.0</td>\n",
       "      <td>Peter Snell</td>\n",
       "      <td>Drama,Horror</td>\n",
       "    </tr>\n",
       "    <tr>\n",
       "      <th>2</th>\n",
       "      <td>tt0323808</td>\n",
       "      <td>The Wicker Tree</td>\n",
       "      <td>2011</td>\n",
       "      <td>96.0</td>\n",
       "      <td>Peter Watson-Wood</td>\n",
       "      <td>Drama,Horror</td>\n",
       "    </tr>\n",
       "  </tbody>\n",
       "</table>\n",
       "</div>"
      ],
      "text/plain": [
       "    movie_id            title  year  runtime               producer  \\\n",
       "0  tt0111414      A Thin Life  2018     75.0  Barry Porter-Robinson   \n",
       "1  tt0323808  The Wicker Tree  2011     96.0            Peter Snell   \n",
       "2  tt0323808  The Wicker Tree  2011     96.0      Peter Watson-Wood   \n",
       "\n",
       "         genres  \n",
       "0        Comedy  \n",
       "1  Drama,Horror  \n",
       "2  Drama,Horror  "
      ]
     },
     "execution_count": 4,
     "metadata": {},
     "output_type": "execute_result"
    }
   ],
   "source": [
    "imdb.head(3)"
   ]
  },
  {
   "cell_type": "markdown",
   "metadata": {},
   "source": [
    "## Data Preparation\n",
    "***"
   ]
  },
  {
   "cell_type": "code",
   "execution_count": 5,
   "metadata": {
    "ExecuteTime": {
     "end_time": "2023-04-11T17:57:42.520771Z",
     "start_time": "2023-04-11T17:57:42.513136Z"
    }
   },
   "outputs": [],
   "source": [
    "from my_package import data_prep as dp"
   ]
  },
  {
   "cell_type": "markdown",
   "metadata": {},
   "source": [
    "For the numbers dataset, I cleaned and converted the 'production_budget' and 'worldwide_gross' columns to integers to prepare for future calculations. I also extracted the year from the 'release_date' column to help merge the data.\n",
    "\n",
    "For the IMDb dataset, I converted the genres column into a list, then expanded each element in the list into its own row, replicating the other associated data. \n",
    "\n",
    "For both datasets, I cleaned the movie titles, by stripping them of all punctuation and white space. I did this to maximize the number of matched movie titles while merging. Lastly, I normalized the column names and dropped unnecessary columns."
   ]
  },
  {
   "cell_type": "code",
   "execution_count": 6,
   "metadata": {
    "ExecuteTime": {
     "end_time": "2023-04-11T17:58:52.365974Z",
     "start_time": "2023-04-11T17:58:51.266479Z"
    }
   },
   "outputs": [
    {
     "data": {
      "text/html": [
       "<div>\n",
       "<style scoped>\n",
       "    .dataframe tbody tr th:only-of-type {\n",
       "        vertical-align: middle;\n",
       "    }\n",
       "\n",
       "    .dataframe tbody tr th {\n",
       "        vertical-align: top;\n",
       "    }\n",
       "\n",
       "    .dataframe thead th {\n",
       "        text-align: right;\n",
       "    }\n",
       "</style>\n",
       "<table border=\"1\" class=\"dataframe\">\n",
       "  <thead>\n",
       "    <tr style=\"text-align: right;\">\n",
       "      <th></th>\n",
       "      <th>title</th>\n",
       "      <th>year</th>\n",
       "      <th>budget</th>\n",
       "      <th>worldwide_gross</th>\n",
       "      <th>movie_id</th>\n",
       "      <th>runtime</th>\n",
       "      <th>producer</th>\n",
       "      <th>genres</th>\n",
       "    </tr>\n",
       "  </thead>\n",
       "  <tbody>\n",
       "    <tr>\n",
       "      <th>0</th>\n",
       "      <td>avengersageofultron</td>\n",
       "      <td>2015</td>\n",
       "      <td>330600000</td>\n",
       "      <td>1403013963</td>\n",
       "      <td>tt2395427</td>\n",
       "      <td>141.0</td>\n",
       "      <td>Kevin Feige</td>\n",
       "      <td>Action</td>\n",
       "    </tr>\n",
       "    <tr>\n",
       "      <th>1</th>\n",
       "      <td>avengersageofultron</td>\n",
       "      <td>2015</td>\n",
       "      <td>330600000</td>\n",
       "      <td>1403013963</td>\n",
       "      <td>tt2395427</td>\n",
       "      <td>141.0</td>\n",
       "      <td>Kevin Feige</td>\n",
       "      <td>Adventure</td>\n",
       "    </tr>\n",
       "    <tr>\n",
       "      <th>2</th>\n",
       "      <td>avengersageofultron</td>\n",
       "      <td>2015</td>\n",
       "      <td>330600000</td>\n",
       "      <td>1403013963</td>\n",
       "      <td>tt2395427</td>\n",
       "      <td>141.0</td>\n",
       "      <td>Kevin Feige</td>\n",
       "      <td>Sci-Fi</td>\n",
       "    </tr>\n",
       "    <tr>\n",
       "      <th>3</th>\n",
       "      <td>thedarkknightrises</td>\n",
       "      <td>2012</td>\n",
       "      <td>275000000</td>\n",
       "      <td>1084439099</td>\n",
       "      <td>tt1345836</td>\n",
       "      <td>164.0</td>\n",
       "      <td>Emma Thomas</td>\n",
       "      <td>Action</td>\n",
       "    </tr>\n",
       "    <tr>\n",
       "      <th>4</th>\n",
       "      <td>thedarkknightrises</td>\n",
       "      <td>2012</td>\n",
       "      <td>275000000</td>\n",
       "      <td>1084439099</td>\n",
       "      <td>tt1345836</td>\n",
       "      <td>164.0</td>\n",
       "      <td>Emma Thomas</td>\n",
       "      <td>Thriller</td>\n",
       "    </tr>\n",
       "  </tbody>\n",
       "</table>\n",
       "</div>"
      ],
      "text/plain": [
       "                 title  year     budget  worldwide_gross   movie_id  runtime  \\\n",
       "0  avengersageofultron  2015  330600000       1403013963  tt2395427    141.0   \n",
       "1  avengersageofultron  2015  330600000       1403013963  tt2395427    141.0   \n",
       "2  avengersageofultron  2015  330600000       1403013963  tt2395427    141.0   \n",
       "3   thedarkknightrises  2012  275000000       1084439099  tt1345836    164.0   \n",
       "4   thedarkknightrises  2012  275000000       1084439099  tt1345836    164.0   \n",
       "\n",
       "      producer     genres  \n",
       "0  Kevin Feige     Action  \n",
       "1  Kevin Feige  Adventure  \n",
       "2  Kevin Feige     Sci-Fi  \n",
       "3  Emma Thomas     Action  \n",
       "4  Emma Thomas   Thriller  "
      ]
     },
     "execution_count": 6,
     "metadata": {},
     "output_type": "execute_result"
    }
   ],
   "source": [
    "the_numbers = dp.prep_the_numbers(the_numbers)\n",
    "imdb = dp.prep_imdb(imdb)\n",
    "movies = dp.merge(the_numbers,imdb)\n",
    "movies.head()"
   ]
  },
  {
   "cell_type": "markdown",
   "metadata": {},
   "source": [
    "## Data Modeling\n",
    "***\n",
    "\n",
    "My first instinct was to look into the Box Office Mojo data to determine the most and least successful movie studios, identify patterns, and make recommendations to help Microsoft be successful. After thorough analysis, the results were inconclusive due to many reasons including the size of the datasets. I then decided to pivot to most and least successful producers and look for similar patterns. \n",
    "\n",
    "As a measure of success, I initially determined success of a movie by it's profit - the difference between a movie's gross box office and its production budget. After analysis, I determined that it came up with conclusions not suited to Microsoft's needs. For example, the most profitable movies tend to have very large budgets, but it doesn't seem prudent to recommend Microsoft make movies with very large budgets to start out, especially as I only found a correlation between budget and profit. Based on this I decided to focus on return on investment, a ratio of profit to budget, as a metric for box office success.\n",
    "\n",
    "I created a ROI column to use as my measure of success. To make the 'producer_rank' column, I first found the top and bottom 5 producers ranked by median ROI for producers with a minimum of 7 movies in the dataset. I decided on this number so that the median of the ROI from each producer would be more representative. It would also allow more movies to be in each group. "
   ]
  },
  {
   "cell_type": "code",
   "execution_count": 7,
   "metadata": {
    "ExecuteTime": {
     "end_time": "2023-04-11T17:58:59.824037Z",
     "start_time": "2023-04-11T17:58:59.782677Z"
    }
   },
   "outputs": [
    {
     "data": {
      "text/html": [
       "<div>\n",
       "<style scoped>\n",
       "    .dataframe tbody tr th:only-of-type {\n",
       "        vertical-align: middle;\n",
       "    }\n",
       "\n",
       "    .dataframe tbody tr th {\n",
       "        vertical-align: top;\n",
       "    }\n",
       "\n",
       "    .dataframe thead th {\n",
       "        text-align: right;\n",
       "    }\n",
       "</style>\n",
       "<table border=\"1\" class=\"dataframe\">\n",
       "  <thead>\n",
       "    <tr style=\"text-align: right;\">\n",
       "      <th></th>\n",
       "      <th>title</th>\n",
       "      <th>year</th>\n",
       "      <th>budget</th>\n",
       "      <th>worldwide_gross</th>\n",
       "      <th>movie_id</th>\n",
       "      <th>runtime</th>\n",
       "      <th>producer</th>\n",
       "      <th>genres</th>\n",
       "      <th>ROI</th>\n",
       "      <th>producer_rank</th>\n",
       "    </tr>\n",
       "  </thead>\n",
       "  <tbody>\n",
       "    <tr>\n",
       "      <th>0</th>\n",
       "      <td>avengersageofultron</td>\n",
       "      <td>2015</td>\n",
       "      <td>330600000</td>\n",
       "      <td>1403013963</td>\n",
       "      <td>tt2395427</td>\n",
       "      <td>141.0</td>\n",
       "      <td>Kevin Feige</td>\n",
       "      <td>Action</td>\n",
       "      <td>324.384139</td>\n",
       "      <td>NaN</td>\n",
       "    </tr>\n",
       "    <tr>\n",
       "      <th>1</th>\n",
       "      <td>avengersageofultron</td>\n",
       "      <td>2015</td>\n",
       "      <td>330600000</td>\n",
       "      <td>1403013963</td>\n",
       "      <td>tt2395427</td>\n",
       "      <td>141.0</td>\n",
       "      <td>Kevin Feige</td>\n",
       "      <td>Adventure</td>\n",
       "      <td>324.384139</td>\n",
       "      <td>NaN</td>\n",
       "    </tr>\n",
       "    <tr>\n",
       "      <th>2</th>\n",
       "      <td>avengersageofultron</td>\n",
       "      <td>2015</td>\n",
       "      <td>330600000</td>\n",
       "      <td>1403013963</td>\n",
       "      <td>tt2395427</td>\n",
       "      <td>141.0</td>\n",
       "      <td>Kevin Feige</td>\n",
       "      <td>Sci-Fi</td>\n",
       "      <td>324.384139</td>\n",
       "      <td>NaN</td>\n",
       "    </tr>\n",
       "    <tr>\n",
       "      <th>3</th>\n",
       "      <td>thedarkknightrises</td>\n",
       "      <td>2012</td>\n",
       "      <td>275000000</td>\n",
       "      <td>1084439099</td>\n",
       "      <td>tt1345836</td>\n",
       "      <td>164.0</td>\n",
       "      <td>Emma Thomas</td>\n",
       "      <td>Action</td>\n",
       "      <td>294.341491</td>\n",
       "      <td>NaN</td>\n",
       "    </tr>\n",
       "    <tr>\n",
       "      <th>4</th>\n",
       "      <td>thedarkknightrises</td>\n",
       "      <td>2012</td>\n",
       "      <td>275000000</td>\n",
       "      <td>1084439099</td>\n",
       "      <td>tt1345836</td>\n",
       "      <td>164.0</td>\n",
       "      <td>Emma Thomas</td>\n",
       "      <td>Thriller</td>\n",
       "      <td>294.341491</td>\n",
       "      <td>NaN</td>\n",
       "    </tr>\n",
       "  </tbody>\n",
       "</table>\n",
       "</div>"
      ],
      "text/plain": [
       "                 title  year     budget  worldwide_gross   movie_id  runtime  \\\n",
       "0  avengersageofultron  2015  330600000       1403013963  tt2395427    141.0   \n",
       "1  avengersageofultron  2015  330600000       1403013963  tt2395427    141.0   \n",
       "2  avengersageofultron  2015  330600000       1403013963  tt2395427    141.0   \n",
       "3   thedarkknightrises  2012  275000000       1084439099  tt1345836    164.0   \n",
       "4   thedarkknightrises  2012  275000000       1084439099  tt1345836    164.0   \n",
       "\n",
       "      producer     genres         ROI producer_rank  \n",
       "0  Kevin Feige     Action  324.384139           NaN  \n",
       "1  Kevin Feige  Adventure  324.384139           NaN  \n",
       "2  Kevin Feige     Sci-Fi  324.384139           NaN  \n",
       "3  Emma Thomas     Action  294.341491           NaN  \n",
       "4  Emma Thomas   Thriller  294.341491           NaN  "
      ]
     },
     "execution_count": 7,
     "metadata": {},
     "output_type": "execute_result"
    }
   ],
   "source": [
    "movies = dp.add_features(movies)\n",
    "movies.head()"
   ]
  },
  {
   "cell_type": "markdown",
   "metadata": {},
   "source": [
    "## Evaluation\n",
    "***"
   ]
  },
  {
   "cell_type": "code",
   "execution_count": 8,
   "metadata": {
    "ExecuteTime": {
     "end_time": "2023-04-11T17:59:45.103258Z",
     "start_time": "2023-04-11T17:59:45.097717Z"
    }
   },
   "outputs": [],
   "source": [
    "from my_package import visualizations as viz"
   ]
  },
  {
   "cell_type": "markdown",
   "metadata": {},
   "source": [
    "Once I had my list of producers, I could compare the movies they made to look for any patterns.  I chose budget, movie length, and most common genres as these would be parameters which Microsoft could control when making movies."
   ]
  },
  {
   "cell_type": "code",
   "execution_count": 9,
   "metadata": {
    "ExecuteTime": {
     "end_time": "2023-04-11T17:59:58.263406Z",
     "start_time": "2023-04-11T17:59:58.240678Z"
    },
    "scrolled": true
   },
   "outputs": [
    {
     "data": {
      "text/html": [
       "<div>\n",
       "<style scoped>\n",
       "    .dataframe tbody tr th:only-of-type {\n",
       "        vertical-align: middle;\n",
       "    }\n",
       "\n",
       "    .dataframe tbody tr th {\n",
       "        vertical-align: top;\n",
       "    }\n",
       "\n",
       "    .dataframe thead th {\n",
       "        text-align: right;\n",
       "    }\n",
       "</style>\n",
       "<table border=\"1\" class=\"dataframe\">\n",
       "  <thead>\n",
       "    <tr style=\"text-align: right;\">\n",
       "      <th></th>\n",
       "      <th>year</th>\n",
       "      <th>budget</th>\n",
       "      <th>worldwide_gross</th>\n",
       "      <th>runtime</th>\n",
       "      <th>ROI</th>\n",
       "    </tr>\n",
       "    <tr>\n",
       "      <th>producer_rank</th>\n",
       "      <th></th>\n",
       "      <th></th>\n",
       "      <th></th>\n",
       "      <th></th>\n",
       "      <th></th>\n",
       "    </tr>\n",
       "  </thead>\n",
       "  <tbody>\n",
       "    <tr>\n",
       "      <th>High ROI Producers</th>\n",
       "      <td>2015</td>\n",
       "      <td>5000000</td>\n",
       "      <td>91266581</td>\n",
       "      <td>99.0</td>\n",
       "      <td>1080.879909</td>\n",
       "    </tr>\n",
       "    <tr>\n",
       "      <th>Low ROI Producers</th>\n",
       "      <td>2013</td>\n",
       "      <td>36000000</td>\n",
       "      <td>48425971</td>\n",
       "      <td>113.0</td>\n",
       "      <td>26.704591</td>\n",
       "    </tr>\n",
       "  </tbody>\n",
       "</table>\n",
       "</div>"
      ],
      "text/plain": [
       "                    year    budget  worldwide_gross  runtime          ROI\n",
       "producer_rank                                                            \n",
       "High ROI Producers  2015   5000000         91266581     99.0  1080.879909\n",
       "Low ROI Producers   2013  36000000         48425971    113.0    26.704591"
      ]
     },
     "execution_count": 9,
     "metadata": {},
     "output_type": "execute_result"
    }
   ],
   "source": [
    "prod_ranked = movies.dropna(axis=0, subset=['producer_rank'])\n",
    "prod_ranked.drop_duplicates('movie_id').groupby('producer_rank').median()"
   ]
  },
  {
   "cell_type": "markdown",
   "metadata": {},
   "source": [
    "### Producers & Movie Length\n",
    "Movies from producers with high ROI tended to have slightly shorter movies on average. A box plot has the advantage of showing the distribution of the data interest of just the measure of center. I excluded any outliers (1.5 times the IQR away from Q1 and Q3) to improve the visual. Excluding outliers also helps Microsoft to make business decisions based on what is most likely. "
   ]
  },
  {
   "cell_type": "code",
   "execution_count": 10,
   "metadata": {
    "ExecuteTime": {
     "end_time": "2023-04-11T18:00:18.143631Z",
     "start_time": "2023-04-11T18:00:17.923469Z"
    },
    "scrolled": true
   },
   "outputs": [
    {
     "data": {
      "image/png": "[encoded data removed]",
      "text/plain": [
       "<Figure size 576x576 with 1 Axes>"
      ]
     },
     "metadata": {},
     "output_type": "display_data"
    }
   ],
   "source": [
    "viz.producer_runtime(movies)"
   ]
  },
  {
   "cell_type": "markdown",
   "metadata": {},
   "source": [
    "### Producers & Production Budget\n",
    "This graph shows the stark difference in production budgets, with all of the movies from high ROI producers having a lower budget than 75% of the movies from low ROI producers (excluding outliers). The movie budgets for the high ROI producers are also much more consistent than movies from low ROI producers."
   ]
  },
  {
   "cell_type": "code",
   "execution_count": 11,
   "metadata": {
    "ExecuteTime": {
     "end_time": "2023-04-11T18:01:09.311954Z",
     "start_time": "2023-04-11T18:01:09.169432Z"
    }
   },
   "outputs": [
    {
     "data": {
      "image/png": "[encoded data removed]",
      "text/plain": [
       "<Figure size 576x576 with 1 Axes>"
      ]
     },
     "metadata": {},
     "output_type": "display_data"
    }
   ],
   "source": [
    "viz.producer_budget(movies)"
   ]
  },
  {
   "cell_type": "markdown",
   "metadata": {},
   "source": [
    "### Producers & Genres\n",
    "Initially, I looked at the most common occurring genre in each group, but after Drama appeared in both categories, I decided to rank the genres by how far they differed from the average rate which a genre occurred in all the movies. \n",
    "\n",
    "Horror, Thriller, and Mystery genres were overrepresented in our high ROI producers movies dataset compared to the average for the whole dataset. Drama, Comedy, and Crime were overrepresented in are low ROI producers movies dataset. "
   ]
  },
  {
   "cell_type": "code",
   "execution_count": 12,
   "metadata": {
    "ExecuteTime": {
     "end_time": "2023-04-11T18:02:31.640573Z",
     "start_time": "2023-04-11T18:02:31.242736Z"
    }
   },
   "outputs": [
    {
     "data": {
      "image/png": "[encoded data removed]",
      "text/plain": [
       "<Figure size 1368x432 with 2 Axes>"
      ]
     },
     "metadata": {},
     "output_type": "display_data"
    }
   ],
   "source": [
    "viz.producer_genre(movies)"
   ]
  },
  {
   "cell_type": "markdown",
   "metadata": {},
   "source": [
    "## Conclusions\n",
    "***"
   ]
  },
  {
   "cell_type": "markdown",
   "metadata": {},
   "source": [
    "This analysis leads to three recommendations:\n",
    "- **Produce movies that are between 90 - 105 minutes.** The data shows that successful producers make movies slightly shorter than less successful producers. \n",
    "- **Keep production budgets low.** Producing movies for a cheaper price would allow Microsoft to make more movies, minimize the cost of producing unsuccessful movies, and maximizing the ROI for successful movies. \n",
    "- **Emphasize production of horror, thriller, and mystery movies. Monitor production of drama, comedy,and crime movies.** Keeping these genres in mind when producing movies matches the market demand for movies and would help maximize ROI."
   ]
  },
  {
   "cell_type": "markdown",
   "metadata": {},
   "source": [
    "### Limitations\n",
    "- The data only includes movies through 2020. This doesn't account for movie trends in the last three years. \n",
    "- Due to a lack of foreign key in either data set to merge on, it is possible we excluded some movies which were in both datasets. \n",
    "- Analysis was limited by the size of the dataset. Increasing the size could produce more representative results.  \n"
   ]
  },
  {
   "cell_type": "markdown",
   "metadata": {},
   "source": [
    "### Next Steps\n",
    "Further analysis could help improve decision making and success of Microsoft Movie Studios:\n",
    "- **Study success by studio** More data is needed to categorize movies by movie studio. Then we could compare and contrast patterns between successful and not so successful movie studios. \n",
    "- **Analyze current data** The pandemic has had a notable affect on box office success. More analysis of recent data is needed to make informed decisions. \n",
    "- **Streaming service** Analyzing box office is only a piece of movie success these days. Analysis about profitability of streaming movies and/or creating one's own streaming service would keep Microsoft up to date with competitors. "
   ]
  }
 ],
 "metadata": {
  "kernelspec": {
   "display_name": "Python (learn-env)",
   "language": "python",
   "name": "learn-env"
  },
  "language_info": {
   "codemirror_mode": {
    "name": "ipython",
    "version": 3
   },
   "file_extension": ".py",
   "mimetype": "text/x-python",
   "name": "python",
   "nbconvert_exporter": "python",
   "pygments_lexer": "ipython3",
   "version": "3.8.5"
  }
 },
 "nbformat": 4,
 "nbformat_minor": 4
}
